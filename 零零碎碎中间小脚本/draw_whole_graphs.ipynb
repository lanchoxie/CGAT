{
 "cells": [
  {
   "cell_type": "code",
   "execution_count": 1,
   "id": "82862d99",
   "metadata": {},
   "outputs": [
    {
     "name": "stderr",
     "output_type": "stream",
     "text": [
      "C:\\Users\\xiety\\AppData\\Roaming\\Python\\Python39\\site-packages\\pandas\\core\\computation\\expressions.py:21: UserWarning: Pandas requires version '2.8.0' or newer of 'numexpr' (version '2.7.3' currently installed).\n",
      "  from pandas.core.computation.check import NUMEXPR_INSTALLED\n",
      "C:\\Users\\xiety\\AppData\\Roaming\\Python\\Python39\\site-packages\\pandas\\core\\arrays\\masked.py:62: UserWarning: Pandas requires version '1.3.4' or newer of 'bottleneck' (version '1.3.2' currently installed).\n",
      "  from pandas.core import (\n",
      "E:\\anconda_installation_file\\lib\\site-packages\\pymatgen\\analysis\\local_env.py:4159: UserWarning: No oxidation states specified on sites! For better results, set the site oxidation states in the structure.\n",
      "  warnings.warn(\n",
      "E:\\anconda_installation_file\\lib\\site-packages\\pymatgen\\analysis\\local_env.py:3953: UserWarning: CrystalNN: cannot locate an appropriate radius, covalent or atomic radii will be used, this can lead to non-optimal results.\n",
      "  warnings.warn(\n"
     ]
    }
   ],
   "source": [
    "from pymatgen.core.periodic_table import Element\n",
    "from pymatgen.analysis.local_env import CrystalNN\n",
    "from pymatgen.core.structure import Structure\n",
    "from pymatgen.io.xcrysden import XSF\n",
    "import networkx as nx\n",
    "import numpy as np\n",
    "import plotly.graph_objs as go\n",
    "import math\n",
    "import copy\n",
    "\n",
    "# 从文件中读取晶体结构\n",
    "# 替换为您的文件路径和文件名\n",
    "dir_=\"D:\\\\project\\\\谢琎老师锂电池\\\\第二次：Ti阻止了Li-Ni混排\\\\计算结果\\\\第三次：氧空位\\\\数据3-返稿意见\\\\结构\\\\combined_xsf_files\\\\\"\n",
    "str_name='LiNiO2_331_NCM_513_Ti_num_1_0'\n",
    "xsf_file = f'{str_name}.xsf'\n",
    "\n",
    "def read_xsf(file_path):\n",
    "    with open(file_path, 'r') as file:\n",
    "        xsf_content = file.read()\n",
    "    xsf = XSF.from_string(xsf_content)\n",
    "    return xsf.structure\n",
    "\n",
    "crystal_orginal = read_xsf(dir_ + xsf_file)\n",
    "# Create a deep copy of the crystal structure\n",
    "crystal = copy.deepcopy(crystal_orginal)\n",
    "\n",
    "def create_original_index_list(crystal):\n",
    "    original_indices = []\n",
    "    for i, site in enumerate(crystal):\n",
    "        if str(site.specie) != 'O':  # 只为非氧原子创建映射\n",
    "            original_indices.append(i)\n",
    "    return original_indices\n",
    "\n",
    "#index projection from original to delete\n",
    "original_index_map = create_original_index_list(crystal)\n",
    "\n",
    "def map_old_indices_to_new(original_index_map, crystal):\n",
    "    new_index_map = {}\n",
    "    for new_index, old_index in enumerate(original_index_map):\n",
    "        new_index_map[old_index] = new_index\n",
    "    return new_index_map\n",
    "\n",
    "#index projection from delete to original\n",
    "new_index_map = map_old_indices_to_new(original_index_map, crystal)\n",
    "\n",
    "\n",
    "# Remove all oxygen sites from the copy\n",
    "crystal_metal = copy.deepcopy(crystal_orginal)\n",
    "crystal_metal.remove_species([\"O\"])\n",
    "\n",
    "# 使用pymatgen的CrystalNN找到临近的原子\n",
    "crystal_nn = CrystalNN()\n",
    "neighbors = [crystal_nn.get_nn_info(crystal, n=i) for i, _ in enumerate(crystal.sites)]\n",
    "\n",
    "neighbors_metal = [crystal_nn.get_nn_info(crystal_metal, n=i) for i, _ in enumerate(crystal_metal.sites)]\n",
    "\n",
    "\n",
    "# 构建图\n",
    "G = nx.Graph()\n",
    "for i, site in enumerate(crystal.sites):\n",
    "    G.add_node(i, element=site.specie.symbol)\n",
    "    for neighbor in neighbors[i]:\n",
    "        neighbor_index = neighbor['site_index']\n",
    "        if not G.has_edge(i, neighbor_index):\n",
    "            G.add_edge(i, neighbor_index)\n",
    "\n",
    "for i, site in enumerate(crystal_metal.sites):\n",
    "    for neighbor in neighbors_metal[i]:\n",
    "        li_ni_edge=0\n",
    "        neighbor_index = neighbor['site_index']\n",
    "        if ((crystal_metal[i].specie==Element(\"Li\")) and (crystal_metal[neighbor_index].specie==Element(\"Ni\"))) or ((crystal_metal[i].specie==Element(\"Ni\")) and (crystal_metal[neighbor_index].specie==Element(\"Li\"))):\n",
    "            li_ni_edge=1\n",
    "        if not G.has_edge(original_index_map[i], original_index_map[neighbor_index]) and li_ni_edge==1:\n",
    "            G.add_edge(original_index_map[i], original_index_map[neighbor_index])\n",
    "\n",
    "color_map = {\n",
    "    'Mn': 'rgba(128, 0, 128, 1)',  # 紫色\n",
    "    'Ti': 'rgba(135, 206, 235, 1)', # 天蓝色\n",
    "    'Co': 'rgba(0, 0, 139, 1)',     # 深蓝色\n",
    "    'Ni': 'rgba(128, 128, 128, 1)', # 灰色\n",
    "    'Li': 'rgba(0, 128, 0, 1)',     # 绿色\n",
    "    'O': 'rgba(255, 0, 0, 1)'       # 红色\n",
    "}"
   ]
  },
  {
   "cell_type": "code",
   "execution_count": 2,
   "id": "da6dfa55",
   "metadata": {},
   "outputs": [
    {
     "name": "stdout",
     "output_type": "stream",
     "text": [
      "94\n",
      "40\n"
     ]
    }
   ],
   "source": [
    "\n",
    "index_new=40\n",
    "print(original_index_map[index_new])\n",
    "print(new_index_map[original_index_map[index_new]])\n"
   ]
  },
  {
   "cell_type": "code",
   "execution_count": 3,
   "id": "5ab4e0c6",
   "metadata": {},
   "outputs": [
    {
     "name": "stdout",
     "output_type": "stream",
     "text": [
      "0\n",
      "19\n",
      "18\n",
      "1\n",
      "24\n",
      "4\n",
      "50\n",
      "OR: 104\n",
      "49\n",
      "OR: 103\n",
      "28\n",
      "OR: 82\n",
      "35\n",
      "OR: 89\n",
      "33\n",
      "OR: 87\n",
      "34\n",
      "OR: 88\n",
      "0\n",
      "OR: 0\n",
      "19\n",
      "OR: 19\n",
      "18\n",
      "OR: 18\n",
      "1\n",
      "OR: 1\n",
      "24\n",
      "OR: 24\n",
      "4\n",
      "OR: 4\n"
     ]
    }
   ],
   "source": [
    "def get_nearest_neighbors_of_type(atom_index, element_type):\n",
    "    \"\"\"\n",
    "    找到给定原子索引的最近邻原子，这些原子的类型为指定类型，数量限制为n个。\n",
    "    已放置的原子将从考虑中剔除。\n",
    "\n",
    "    :param atom_index: 当前原子的索引。\n",
    "    :param element_type: 要找的原子类型（例如 'O' 表示氧原子）。\n",
    "    :param placed_atoms: 已经放置的原子索引的集合。\n",
    "    :param n: 最多返回的邻近原子数量。\n",
    "    :return: 指定类型的最近邻原子的索引列表。\n",
    "    \"\"\"\n",
    "    n=6\n",
    "    neighbors = crystal_nn.get_nn_info(crystal, n=atom_index)\n",
    "    selected_neighbors = []\n",
    "    if element_type!='Non-O-Li':\n",
    "        for neighbor in neighbors:\n",
    "            neighbor_index = neighbor['site_index']\n",
    "            neighbor_element = crystal[neighbor_index].specie\n",
    "\n",
    "            if neighbor_element == element_type and neighbor_index not in [key for key,v in pos.items()]:\n",
    "                selected_neighbors.append(neighbor_index)\n",
    "                if len(selected_neighbors) >= n:\n",
    "                    break\n",
    "    else:\n",
    "        for neighbor in neighbors:\n",
    "            neighbor_index = neighbor['site_index']\n",
    "            neighbor_element = crystal[neighbor_index].specie\n",
    "\n",
    "            if neighbor_element != Element('Li') and neighbor_element != Element('O') and neighbor_index not in [key for key,v in pos.items()]:\n",
    "                selected_neighbors.append(neighbor_index)\n",
    "                if len(selected_neighbors) >= n:\n",
    "                    break    \n",
    "\n",
    "    return selected_neighbors\n",
    "\n",
    "\n",
    "def get_nearest_neighbors_metal(atom_index):\n",
    "    \"\"\"\n",
    "    找到给定原子索引的最近邻原子，这些原子的类型为指定类型，数量限制为n个。\n",
    "    已放置的原子将从考虑中剔除。\n",
    "\n",
    "    :param atom_index: 当前原子的索引。\n",
    "    :param element_type: 要找的原子类型（例如 'O' 表示氧原子）。\n",
    "    :param placed_atoms: 已经放置的原子索引的集合。\n",
    "    :param n: 最多返回的邻近原子数量。\n",
    "    :return: 指定类型的最近邻原子的索引列表。\n",
    "    \"\"\"\n",
    "    n=6\n",
    "    neighbors = crystal_nn.get_nn_info(crystal_metal, n=new_index_map[atom_index])\n",
    "    selected_neighbors = []\n",
    "    for neighbor in neighbors:\n",
    "        neighbor_index = neighbor['site_index']\n",
    "        print(neighbor_index)\n",
    "        neighbor_element = crystal_metal[neighbor_index].specie\n",
    "\n",
    "        if neighbor_element != Element('Li') and neighbor_element != Element('O') and neighbor_index not in [key for key,v in pos.items()]:\n",
    "            print(\"OR:\",original_index_map[neighbor_index])\n",
    "            selected_neighbors.append(original_index_map[neighbor_index])\n",
    "            if len(selected_neighbors) >= n:\n",
    "                break    \n",
    "\n",
    "    return selected_neighbors\n",
    "\n",
    "def get_nearest_neighbors_li(atom_index):\n",
    "    \"\"\"\n",
    "    找到给定原子索引的最近邻原子，这些原子的类型为指定类型，数量限制为n个。\n",
    "    已放置的原子将从考虑中剔除。\n",
    "\n",
    "    :param atom_index: 当前原子的索引。\n",
    "    :param element_type: 要找的原子类型（例如 'O' 表示氧原子）。\n",
    "    :param placed_atoms: 已经放置的原子索引的集合。\n",
    "    :param n: 最多返回的邻近原子数量。\n",
    "    :return: 指定类型的最近邻原子的索引列表。\n",
    "    \"\"\"\n",
    "    n=6\n",
    "    neighbors = crystal_nn.get_nn_info(crystal_metal, n=new_index_map[atom_index])\n",
    "    selected_neighbors = []\n",
    "    for neighbor in neighbors:\n",
    "        neighbor_index = neighbor['site_index']\n",
    "        print(neighbor_index)\n",
    "        neighbor_element = crystal_metal[neighbor_index].specie\n",
    "\n",
    "        if neighbor_element == Element('Li') and neighbor_index not in [key for key,v in pos.items()]:\n",
    "            print(\"OR:\",original_index_map[neighbor_index])\n",
    "            selected_neighbors.append(original_index_map[neighbor_index])\n",
    "            if len(selected_neighbors) >= n:\n",
    "                break    \n",
    "\n",
    "    return selected_neighbors\n",
    "\n",
    "def place_atoms_in_layer(base_distance, atom_indices):\n",
    "    \"\"\"\n",
    "    根据给定的基础距离和原子索引列表，计算并放置这些原子的位置。\n",
    "    同时更新链接列表。\n",
    "\n",
    "    :param base_distance: 原子到中心的基础距离。\n",
    "    :param atom_indices: 要放置的原子索引列表。\n",
    "    :param links: 存储原子间链接的列表。\n",
    "    :param pos: 存储原子位置的字典。\n",
    "    \"\"\"\n",
    "    num_atoms = len(atom_indices)\n",
    "    for i, atom_index in enumerate(atom_indices):\n",
    "        angle = 2 * math.pi * i / num_atoms\n",
    "        x = base_distance * math.cos(angle)\n",
    "        y = base_distance * math.sin(angle)\n",
    "        pos[atom_index] = (x, y)\n",
    "\n",
    "        \n",
    "'''       \n",
    "# 中心原子和第一层\n",
    "\n",
    "center_atom_vesta=16\n",
    "\n",
    "center_atom_index = center_atom_vesta-1\n",
    "pos = {center_atom_index:(0,0)}\n",
    "#print(\"*\"*20,\"center atom\",\"*\"*20,)\n",
    "#print(pos)\n",
    "\n",
    "distances = [crystal.get_distance(center_atom_index, i) for i, _ in enumerate(crystal.sites)]\n",
    "first_layer_oxygen_atoms = get_nearest_neighbors_of_type(center_atom_index, Element('O'))\n",
    "place_atoms_in_layer(1, first_layer_oxygen_atoms)\n",
    "\n",
    "\n",
    "# 1.2层和1.4层\n",
    "layer_1_2_li_atoms=[]\n",
    "layer_1_4_other_atoms=[]\n",
    "#for oxygen_atom in first_layer_oxygen_atoms:\n",
    "    #layer_1_2_li_atoms.extend(get_nearest_neighbors_of_type(oxygen_atom, Element('Li')))\n",
    "    #layer_1_4_other_atoms.extend(get_nearest_neighbors_of_type(oxygen_atom, 'Non-O-Li'))\n",
    "layer_1_4_other_atoms.extend(get_nearest_neighbors_metal(center_atom_index)) #只考虑最近邻的六个TM原子\n",
    "layer_1_2_li_atoms.extend(get_nearest_neighbors_li(center_atom_index))\n",
    "#layer_1_2_li_atoms=list(set(layer_1_2_li_atoms))\n",
    "#layer_1_4_other_atoms=list(set(layer_1_4_other_atoms))\n",
    "#print(\"AA\",layer_1_4_other_atoms)\n",
    "place_atoms_in_layer(1.2, layer_1_2_li_atoms)  # 第1.2层距离为1.2\n",
    "place_atoms_in_layer(1.4, layer_1_4_other_atoms)  # 第1.4层距离为1.4\n",
    "\n",
    "second_layer_oxygen_atoms = set()\n",
    "for atom_index in [key for key,v in pos.items()]:\n",
    "    if str(crystal[atom_index].specie) != Element('O'):  # 选择非氧原子\n",
    "        nearest_oxygen_atoms = get_nearest_neighbors_of_type(atom_index, Element('O'))\n",
    "        second_layer_oxygen_atoms.update(nearest_oxygen_atoms)\n",
    "\n",
    "#print(\"*\"*20,\"1st layer atom\",\"*\"*20,)\n",
    "#print(pos)\n",
    "        \n",
    "# 更新第二层原子的位置\n",
    "second_layer_oxygen_atoms = second_layer_oxygen_atoms - set([key for key,v in pos.items()])\n",
    "place_atoms_in_layer(2, list(second_layer_oxygen_atoms))  # 假设第二层距离为2\n",
    "\n",
    "# 计算第2.2层和第2.4层原子位置\n",
    "layer_2_2_li_atoms=[]\n",
    "layer_2_4_other_atoms=[]\n",
    "for oxygen_atom in second_layer_oxygen_atoms:\n",
    "    layer_2_2_li_atoms.extend(get_nearest_neighbors_of_type(oxygen_atom, Element('Li')))\n",
    "    layer_2_4_other_atoms.extend(get_nearest_neighbors_of_type(oxygen_atom, 'Non-O-Li'))\n",
    "layer_2_2_li_atoms=list(set(layer_2_2_li_atoms))\n",
    "layer_2_4_other_atoms=list(set(layer_2_4_other_atoms))\n",
    "place_atoms_in_layer(2.2, layer_2_2_li_atoms)  # 第2.2层距离为2.2\n",
    "place_atoms_in_layer(2.4, layer_2_4_other_atoms)  # 第2.4层距离为2.4\n",
    "\n",
    "#print(\"*\"*20,\"2nd layer atom\",\"*\"*20,)\n",
    "#print(pos)\n",
    "    \n",
    "# 放置剩余原子\n",
    "# 在这里，pos字典包含了所有原子的位置，links列表包含了原子之间的链接\n",
    "\n",
    "\n",
    "remaining_atoms = set(range(len(crystal.sites))) - set([key for key,v in pos.items()])\n",
    "\n",
    "place_atoms_in_layer(3, list(remaining_atoms))  # 假设最外层距离为3\n",
    "\n",
    "'''\n",
    "\n",
    "# 中心原子和第一层\n",
    "\n",
    "center_atom_vesta=108\n",
    "\n",
    "center_atom_index = center_atom_vesta-1\n",
    "pos = {center_atom_index:(0,0)}\n",
    "#print(\"*\"*20,\"center atom\",\"*\"*20,)\n",
    "#print(pos)\n",
    "\n",
    "distances = [crystal.get_distance(center_atom_index, i) for i, _ in enumerate(crystal.sites)]\n",
    "first_layer_oxygen_atoms = get_nearest_neighbors_of_type(center_atom_index, Element('O'))\n",
    "place_atoms_in_layer(0.4, first_layer_oxygen_atoms)\n",
    "\n",
    "\n",
    "# 1.2层和1.4层\n",
    "layer_1_2_li_atoms=[]\n",
    "layer_1_2_li_atoms.extend(get_nearest_neighbors_metal(center_atom_index)) #只考虑最近邻的六个TM原子\n",
    "layer_1_2_li_atoms.extend(get_nearest_neighbors_li(center_atom_index))\n",
    "place_atoms_in_layer(1.2, layer_1_2_li_atoms)  # 第1.2层距离为1.2\n",
    "\n",
    "second_layer_oxygen_atoms = set()\n",
    "for atom_index in [key for key,v in pos.items()]:\n",
    "    if str(crystal[atom_index].specie) != Element('O'):  # 选择非氧原子\n",
    "        nearest_oxygen_atoms = get_nearest_neighbors_of_type(atom_index, Element('O'))\n",
    "        second_layer_oxygen_atoms.update(nearest_oxygen_atoms)\n",
    "\n",
    "#print(\"*\"*20,\"1st layer atom\",\"*\"*20,)\n",
    "#print(pos)\n",
    "        \n",
    "# 更新第二层原子的位置\n",
    "second_layer_oxygen_atoms = second_layer_oxygen_atoms - set([key for key,v in pos.items()])\n",
    "place_atoms_in_layer(1.8, list(second_layer_oxygen_atoms))  # 假设第二层距离为2\n",
    "\n",
    "# 计算第2.2层和第2.4层原子位置\n",
    "layer_2_2_li_atoms=[]\n",
    "for oxygen_atom in second_layer_oxygen_atoms:\n",
    "    layer_2_2_li_atoms.extend(get_nearest_neighbors_of_type(oxygen_atom, Element('Li')))\n",
    "    layer_2_2_li_atoms.extend(get_nearest_neighbors_of_type(oxygen_atom, 'Non-O-Li'))\n",
    "layer_2_2_li_atoms=list(set(layer_2_2_li_atoms))\n",
    "place_atoms_in_layer(2.4, layer_2_2_li_atoms)  # 第2.2层距离为2.2\n",
    "\n",
    "#print(\"*\"*20,\"2nd layer atom\",\"*\"*20,)\n",
    "#print(pos)\n",
    "    \n",
    "# 放置剩余原子\n",
    "# 在这里，pos字典包含了所有原子的位置，links列表包含了原子之间的链接\n",
    "\n",
    "\n",
    "th_layer_oxygen_atoms = set()\n",
    "for atom_index in [key for key,v in pos.items()]:\n",
    "    if str(crystal[atom_index].specie) != Element('O'):  # 选择非氧原子\n",
    "        nearest_oxygen_atoms = get_nearest_neighbors_of_type(atom_index, Element('O'))\n",
    "        th_layer_oxygen_atoms.update(nearest_oxygen_atoms)\n",
    "\n",
    "#print(\"*\"*20,\"1st layer atom\",\"*\"*20,)\n",
    "#print(pos)\n",
    "        \n",
    "# 更新第二层原子的位置\n",
    "th_layer_oxygen_atoms = th_layer_oxygen_atoms - set([key for key,v in pos.items()]) - second_layer_oxygen_atoms\n",
    "place_atoms_in_layer(3, list(th_layer_oxygen_atoms))  # 假设第二层距离为2\n",
    "\n",
    "# 计算第2.2层和第2.4层原子位置\n",
    "layer_3_2_li_atoms=[]\n",
    "for oxygen_atom in th_layer_oxygen_atoms:\n",
    "    layer_3_2_li_atoms.extend(get_nearest_neighbors_of_type(oxygen_atom, Element('Li')))\n",
    "    layer_3_2_li_atoms.extend(get_nearest_neighbors_of_type(oxygen_atom, 'Non-O-Li'))\n",
    "layer_3_2_li_atoms=list(set(layer_3_2_li_atoms))\n",
    "place_atoms_in_layer(3.6, layer_3_2_li_atoms)  # 第2.2层距离为2.2\n",
    "\n",
    "\n",
    "# 绘制链接\n",
    "# ...\n",
    "\n",
    "# 注意：实际代码实现需要具体到您的数据结构和可用函数\n",
    "#print(\"*\"*20,\"final layer atom\",\"*\"*20,)\n",
    "#for i,v in pos.items():\n",
    "#    print(i,v)\n",
    "#print(len(pos),len(pos[0]))"
   ]
  },
  {
   "cell_type": "code",
   "execution_count": 4,
   "id": "61916621",
   "metadata": {},
   "outputs": [],
   "source": [
    "import plotly.graph_objs as go\n",
    "import plotly.offline as py_offline\n",
    "import plotly.io as pio\n"
   ]
  },
  {
   "cell_type": "code",
   "execution_count": 5,
   "id": "c9179952",
   "metadata": {},
   "outputs": [],
   "source": [
    "#pip install -U kaleido"
   ]
  },
  {
   "cell_type": "code",
   "execution_count": 12,
   "id": "195ff899",
   "metadata": {},
   "outputs": [
    {
     "data": {
      "application/vnd.plotly.v1+json": {
       "config": {
        "plotlyServerURL": "https://plot.ly"
       },
       "data": [
        {
         "hoverinfo": "text",
         "hovertext": [
          "Li#1: coor_num: 9 -- O#64.O#70.Ni#104.O#55.O#72.O#57.O#63.Ni#107.Ni#99",
          "O#57: coor_num: 6 -- Li#1.Li#4.Ni#99.Li#3.Mn#93.Ni#106",
          "O#70: coor_num: 6 -- Ti#108.Li#1.Ni#105.Li#2.Mn#90.Li#7",
          "O#72: coor_num: 6 -- Li#1.Ni#104.Mn#90.Li#9.Li#3.Ni#98",
          "O#55: coor_num: 6 -- Li#1.Li#2.Li#5.Ni#107.Ni#99.Mn#91",
          "O#64: coor_num: 6 -- Ti#108.Li#1.Ni#104.Li#5.Mn#89.Li#4",
          "O#63: coor_num: 6 -- Li#1.Li#7.Ni#107.Li#9.Mn#93.Ni#100",
          "Li#2: coor_num: 9 -- O#70.O#65.Ni#105.O#55.O#71.O#61.O#56.Ni#107.Ni#101",
          "O#71: coor_num: 6 -- Ni#105.Li#2.Mn#88.Li#8.Li#3.Ni#98",
          "O#61: coor_num: 6 -- Li#2.Li#7.Ni#107.Li#8.Ni#101.Mn#92",
          "O#56: coor_num: 6 -- Li#2.Li#6.Mn#91.Li#3.Ni#101.Ni#106",
          "O#65: coor_num: 6 -- Ti#108.Li#2.Co#83.Li#5.Mn#88.Li#6",
          "Li#3: coor_num: 10 -- Ni#104.O#71.O#72.O#57.O#56.O#66.Ni#98.Ni#101.O#62.Ni#106",
          "O#66: coor_num: 6 -- Ni#104.Mn#88.Li#4.Li#6.Li#3.Ni#97",
          "O#62: coor_num: 6 -- Li#8.Li#9.Li#3.Ni#101.Mn#93.Co#84",
          "Li#4: coor_num: 10 -- O#64.Ni#104.O#57.O#58.O#67.O#66.Ni#99.Ni#97.O#60.Ni#106",
          "O#60: coor_num: 6 -- Li#4.Li#7.Li#6.Mn#92.Ni#100.Ni#106",
          "O#67: coor_num: 6 -- Ni#105.Mn#89.Li#4.Li#7.Li#8.Ni#97",
          "O#58: coor_num: 6 -- Li#5.Li#4.Ni#99.Li#8.Co#84.Mn#92",
          "Li#5: coor_num: 7 -- O#64.O#65.O#55.O#68.O#59.O#58.Ni#99",
          "O#68: coor_num: 6 -- Co#83.Li#5.Mn#89.Li#8.Li#9.Ni#98",
          "O#59: coor_num: 6 -- Li#5.Li#6.Mn#91.Li#9.Co#84.Ni#100",
          "Li#6: coor_num: 9 -- O#65.O#56.O#59.O#66.O#69.Ni#97.O#60.Ni#100.Ni#106",
          "O#69: coor_num: 6 -- Co#83.Mn#90.Li#7.Li#6.Li#9.Ni#97",
          "Li#7: coor_num: 10 -- O#70.Ni#105.O#61.O#63.O#67.O#69.Ni#107.Ni#97.O#60.Ni#100",
          "Li#8: coor_num: 9 -- Ni#105.O#71.O#68.O#61.O#58.O#67.Ni#98.Ni#101.O#62",
          "Li#9: coor_num: 8 -- O#72.O#68.O#63.O#59.O#69.Ni#98.O#62.Ni#100",
          "Li#10: coor_num: 10 -- Ni#107.Ni#99.Ni#102.Ni#95.O#79.O#29.O#32.O#73.O#74.O#28",
          "O#73: coor_num: 6 -- Mn#85.Ni#95.Ni#103.Li#10.Li#13.Li#12",
          "O#29: coor_num: 6 -- Ni#107.Mn#91.Ni#101.Li#10.Li#16.Li#11",
          "O#79: coor_num: 6 -- Mn#85.Ni#102.Ni#96.Li#10.Li#16.Li#18",
          "O#28: coor_num: 6 -- Ni#107.Ni#99.Mn#93.Li#10.Li#18.Li#12",
          "O#32: coor_num: 6 -- Ni#99.Mn#91.Co#84.Li#10.Li#13.Li#14",
          "O#74: coor_num: 6 -- Ni#102.Ni#95.Mn#86.Li#10.Li#11.Li#14",
          "Li#11: coor_num: 10 -- Ni#102.Ni#101.O#29.O#74.Ni#106.Ni#94.O#33.O#80.O#30.O#75",
          "O#75: coor_num: 6 -- Ni#103.Mn#86.Ni#94.Li#11.Li#12.Li#15",
          "O#80: coor_num: 6 -- Ni#102.Mn#87.Ni#94.Li#16.Li#11.Li#17",
          "O#30: coor_num: 6 -- Ni#101.Mn#93.Ni#106.Li#11.Li#12.Li#17",
          "O#33: coor_num: 6 -- Mn#91.Ni#100.Ni#106.Li#11.Li#14.Li#15",
          "Li#12: coor_num: 10 -- Ni#99.Ni#103.O#73.O#28.Ni#106.Ni#94.O#81.O#31.O#30.O#75",
          "O#31: coor_num: 6 -- Ni#99.Mn#92.Ni#106.Li#13.Li#12.Li#15",
          "O#81: coor_num: 6 -- Mn#85.Co#82.Ni#94.Li#18.Li#12.Li#17",
          "Li#13: coor_num: 9 -- Ni#99.Ni#95.Ni#103.O#32.O#73.O#31.O#77.O#35.O#76",
          "O#76: coor_num: 6 -- Ni#96.Ni#103.Mn#87.Li#16.Li#13.Li#15",
          "O#35: coor_num: 6 -- Ni#101.Co#84.Mn#92.Li#16.Li#13.Li#17",
          "O#77: coor_num: 6 -- Ni#95.Co#82.Mn#87.Li#13.Li#14.Li#17",
          "Li#14: coor_num: 8 -- Ni#95.O#32.O#74.Ni#100.O#33.O#77.O#36.O#78",
          "O#78: coor_num: 6 -- Ni#96.Mn#86.Co#82.Li#18.Li#14.Li#15",
          "O#36: coor_num: 6 -- Mn#93.Co#84.Ni#100.Li#18.Li#14.Li#17",
          "Li#15: coor_num: 10 -- Ni#96.Ni#103.Ni#100.Ni#106.O#33.O#34.O#31.O#75.O#78.O#76",
          "O#34: coor_num: 6 -- Ni#107.Mn#92.Ni#100.Li#16.Li#18.Li#15",
          "Li#16: coor_num: 10 -- Ni#107.Ni#102.Ni#101.Ni#96.O#79.O#29.O#80.O#34.O#35.O#76",
          "Li#17: coor_num: 8 -- Ni#101.Ni#94.O#81.O#80.O#77.O#35.O#30.O#36",
          "Li#18: coor_num: 9 -- Ni#107.Ni#96.O#79.O#28.Ni#100.O#81.O#34.O#36.O#78",
          "Li#19: coor_num: 9 -- O#37.O#41.Ni#104.O#46.O#40.O#48.O#49.Ni#95.Ni#103",
          "O#48: coor_num: 6 -- Li#19.Li#27.Mn#85.Li#21.Ni#103.Ni#94",
          "O#40: coor_num: 6 -- Li#19.Ni#104.Mn#89.Li#21.Li#22.Ni#97",
          "O#46: coor_num: 6 -- Li#20.Li#19.Li#25.Mn#85.Ni#102.Ni#95",
          "O#49: coor_num: 6 -- Li#19.Li#23.Ni#95.Li#22.Ni#103.Mn#87",
          "O#41: coor_num: 6 -- Ti#108.Li#20.Li#19.Co#83.Mn#89.Li#23",
          "O#37: coor_num: 6 -- Ti#108.Li#19.Ni#104.Li#25.Mn#90.Li#27",
          "Li#20: coor_num: 8 -- O#38.O#41.O#46.O#42.O#47.O#50.Ni#102.Ni#95",
          "O#47: coor_num: 6 -- Li#20.Li#26.Ni#102.Li#21.Mn#86.Ni#94",
          "O#42: coor_num: 6 -- Li#20.Co#83.Mn#88.Li#21.Li#24.Ni#97",
          "O#38: coor_num: 6 -- Ti#108.Li#20.Ni#105.Li#25.Mn#88.Li#26",
          "O#50: coor_num: 6 -- Li#20.Li#23.Ni#95.Li#24.Mn#86.Co#82",
          "Li#21: coor_num: 10 -- Ni#104.O#42.O#40.O#48.O#47.O#39.Ni#97.Ni#103.O#51.Ni#94",
          "O#51: coor_num: 6 -- Li#21.Li#24.Li#22.Ni#96.Ni#103.Mn#86",
          "O#39: coor_num: 6 -- Ni#104.Mn#88.Li#26.Li#27.Li#21.Ni#98",
          "Li#22: coor_num: 10 -- Ni#105.O#43.O#40.O#52.O#49.O#44.Ni#97.Ni#96.Ni#103.O#51",
          "O#52: coor_num: 6 -- Li#25.Li#26.Ni#102.Li#22.Ni#96.Mn#87",
          "O#43: coor_num: 6 -- Ni#105.Li#25.Mn#90.Li#24.Li#22.Ni#97",
          "O#44: coor_num: 6 -- Ni#105.Mn#89.Li#26.Li#23.Li#22.Ni#98",
          "Li#23: coor_num: 8 -- O#41.O#49.O#50.O#44.O#45.Ni#95.Ni#98.O#53",
          "O#53: coor_num: 6 -- Li#26.Li#27.Li#23.Co#82.Mn#87.Ni#94",
          "O#45: coor_num: 6 -- Co#83.Mn#90.Li#27.Li#23.Li#24.Ni#98",
          "Li#24: coor_num: 8 -- O#42.O#43.O#54.O#50.O#45.Ni#97.Ni#96.O#51",
          "O#54: coor_num: 6 -- Li#25.Li#27.Mn#85.Li#24.Ni#96.Co#82",
          "Li#25: coor_num: 9 -- O#37.O#38.Ni#105.O#46.O#43.O#54.O#52.Ni#102.Ni#96",
          "Li#26: coor_num: 10 -- O#38.Ni#105.O#47.O#52.O#39.O#44.Ni#102.Ni#98.O#53.Ni#94",
          "Li#27: coor_num: 9 -- O#37.Ni#104.O#48.O#54.O#39.O#45.Ni#98.O#53.Ni#94",
          "Mn#93: coor_num: 6 -- O#57.O#63.O#28.O#62.O#30.O#36",
          "Ni#99: coor_num: 12 -- Li#1.Li#5.O#55.Li#4.O#57.O#58.O#32.O#28.O#31.Li#10.Li#13.Li#12",
          "Ni#107: coor_num: 12 -- Li#1.Li#2.O#55.Li#7.O#61.O#63.O#29.O#28.O#34.Li#10.Li#16.Li#18",
          "Mn#91: coor_num: 6 -- O#55.O#56.O#59.O#29.O#32.O#33",
          "Ni#101: coor_num: 12 -- Li#2.O#61.O#56.Li#8.Li#3.O#29.O#62.O#35.O#30.Li#16.Li#11.Li#17",
          "Ni#106: coor_num: 12 -- Li#4.Li#6.O#57.O#56.Li#3.O#60.O#33.O#31.O#30.Li#11.Li#12.Li#15",
          "Mn#92: coor_num: 6 -- O#61.O#58.O#60.O#34.O#31.O#35",
          "Co#84: coor_num: 6 -- O#59.O#58.O#32.O#62.O#35.O#36",
          "Ni#100: coor_num: 12 -- Li#7.Li#6.O#63.O#59.Li#9.O#60.O#33.O#34.O#36.Li#18.Li#14.Li#15",
          "Ti#108: coor_num: 6 -- O#37.O#38.O#64.O#70.O#65.O#41",
          "Mn#90: coor_num: 6 -- O#37.O#70.O#72.O#43.O#69.O#45",
          "Ni#104: coor_num: 12 -- O#37.O#64.Li#1.Li#19.O#72.O#40.Li#4.Li#27.O#39.O#66.Li#21.Li#3",
          "Mn#88: coor_num: 6 -- O#38.O#65.O#42.O#71.O#39.O#66",
          "Ni#105: coor_num: 12 -- O#38.O#70.Li#2.Li#25.O#71.O#43.Li#7.Li#26.O#67.O#44.Li#8.Li#22",
          "Ni#98: coor_num: 12 -- O#71.O#72.O#68.Li#26.Li#27.Li#23.O#39.O#44.O#45.Li#8.Li#9.Li#3",
          "Mn#89: coor_num: 6 -- O#64.O#41.O#68.O#40.O#67.O#44",
          "Ni#97: coor_num: 12 -- O#42.O#43.O#40.Li#4.Li#7.Li#6.O#67.O#66.O#69.Li#21.Li#24.Li#22",
          "Co#83: coor_num: 6 -- O#65.O#41.O#42.O#68.O#69.O#45",
          "Mn#85: coor_num: 6 -- O#46.O#48.O#54.O#79.O#73.O#81",
          "Ni#102: coor_num: 12 -- Li#20.Li#25.O#46.Li#26.O#47.O#52.O#79.O#74.O#80.Li#10.Li#16.Li#11",
          "Ni#95: coor_num: 12 -- Li#20.Li#19.O#46.Li#23.O#49.O#50.O#73.O#74.O#77.Li#10.Li#13.Li#14",
          "Mn#86: coor_num: 6 -- O#47.O#50.O#74.O#51.O#75.O#78",
          "Ni#94: coor_num: 12 -- Li#26.Li#27.O#48.O#47.Li#21.O#53.O#81.O#80.O#75.Li#11.Li#12.Li#17",
          "Ni#103: coor_num: 12 -- Li#19.O#48.O#49.Li#21.Li#22.O#73.O#51.O#75.O#76.Li#13.Li#12.Li#15",
          "Mn#87: coor_num: 6 -- O#52.O#49.O#53.O#80.O#77.O#76",
          "Co#82: coor_num: 6 -- O#54.O#50.O#53.O#81.O#77.O#78",
          "Ni#96: coor_num: 12 -- Li#25.O#54.O#52.Li#24.Li#22.O#79.O#51.O#78.O#76.Li#16.Li#18.Li#15"
         ],
         "marker": {
          "color": [
           "rgba(78,101,155, 1)",
           "rgba(178,101,155, 1)",
           "rgba(178,101,155, 1)",
           "rgba(178,101,155, 1)",
           "rgba(178,101,155, 1)",
           "rgba(178,101,155, 1)",
           "rgba(178,101,155, 1)",
           "rgba(78,101,155, 1)",
           "rgba(178,101,155, 1)",
           "rgba(178,101,155, 1)",
           "rgba(178,101,155, 1)",
           "rgba(178,101,155, 1)",
           "rgba(78,101,155, 1)",
           "rgba(178,101,155, 1)",
           "rgba(178,101,155, 1)",
           "rgba(78,101,155, 1)",
           "rgba(178,101,155, 1)",
           "rgba(178,101,155, 1)",
           "rgba(178,101,155, 1)",
           "rgba(78,101,155, 1)",
           "rgba(178,101,155, 1)",
           "rgba(178,101,155, 1)",
           "rgba(78,101,155, 1)",
           "rgba(178,101,155, 1)",
           "rgba(78,101,155, 1)",
           "rgba(78,101,155, 1)",
           "rgba(78,101,155, 1)",
           "rgba(78,101,155, 1)",
           "rgba(178,101,155, 1)",
           "rgba(178,101,155, 1)",
           "rgba(178,101,155, 1)",
           "rgba(178,101,155, 1)",
           "rgba(178,101,155, 1)",
           "rgba(178,101,155, 1)",
           "rgba(78,101,155, 1)",
           "rgba(178,101,155, 1)",
           "rgba(178,101,155, 1)",
           "rgba(178,101,155, 1)",
           "rgba(178,101,155, 1)",
           "rgba(78,101,155, 1)",
           "rgba(178,101,155, 1)",
           "rgba(178,101,155, 1)",
           "rgba(78,101,155, 1)",
           "rgba(178,101,155, 1)",
           "rgba(178,101,155, 1)",
           "rgba(178,101,155, 1)",
           "rgba(78,101,155, 1)",
           "rgba(178,101,155, 1)",
           "rgba(178,101,155, 1)",
           "rgba(78,101,155, 1)",
           "rgba(178,101,155, 1)",
           "rgba(78,101,155, 1)",
           "rgba(78,101,155, 1)",
           "rgba(78,101,155, 1)",
           "rgba(78,101,155, 1)",
           "rgba(178,101,155, 1)",
           "rgba(178,101,155, 1)",
           "rgba(178,101,155, 1)",
           "rgba(178,101,155, 1)",
           "rgba(178,101,155, 1)",
           "rgba(178,101,155, 1)",
           "rgba(78,101,155, 1)",
           "rgba(178,101,155, 1)",
           "rgba(178,101,155, 1)",
           "rgba(178,101,155, 1)",
           "rgba(178,101,155, 1)",
           "rgba(78,101,155, 1)",
           "rgba(178,101,155, 1)",
           "rgba(178,101,155, 1)",
           "rgba(78,101,155, 1)",
           "rgba(178,101,155, 1)",
           "rgba(178,101,155, 1)",
           "rgba(178,101,155, 1)",
           "rgba(78,101,155, 1)",
           "rgba(178,101,155, 1)",
           "rgba(178,101,155, 1)",
           "rgba(78,101,155, 1)",
           "rgba(178,101,155, 1)",
           "rgba(78,101,155, 1)",
           "rgba(78,101,155, 1)",
           "rgba(78,101,155, 1)",
           "rgba(253,207,158 , 1)",
           "rgba(182,118,108, 1)",
           "rgba(182,118,108, 1)",
           "rgba(253,207,158 , 1)",
           "rgba(182,118,108, 1)",
           "rgba(182,118,108, 1)",
           "rgba(253,207,158 , 1)",
           "rgba(239,164,132 , 1)",
           "rgba(182,118,108, 1)",
           "rgba(184,168,207, 1)",
           "rgba(253,207,158 , 1)",
           "rgba(182,118,108, 1)",
           "rgba(253,207,158 , 1)",
           "rgba(182,118,108, 1)",
           "rgba(182,118,108, 1)",
           "rgba(253,207,158 , 1)",
           "rgba(182,118,108, 1)",
           "rgba(239,164,132 , 1)",
           "rgba(253,207,158 , 1)",
           "rgba(182,118,108, 1)",
           "rgba(182,118,108, 1)",
           "rgba(253,207,158 , 1)",
           "rgba(182,118,108, 1)",
           "rgba(182,118,108, 1)",
           "rgba(253,207,158 , 1)",
           "rgba(239,164,132 , 1)",
           "rgba(182,118,108, 1)"
          ],
          "line": {
           "width": 2
          },
          "size": [
           40,
           28,
           28,
           28,
           28,
           28,
           28,
           40,
           28,
           28,
           28,
           28,
           40,
           28,
           28,
           40,
           28,
           28,
           28,
           40,
           28,
           28,
           40,
           28,
           40,
           40,
           40,
           40,
           28,
           28,
           28,
           28,
           28,
           28,
           40,
           28,
           28,
           28,
           28,
           40,
           28,
           28,
           40,
           28,
           28,
           28,
           40,
           28,
           28,
           40,
           28,
           40,
           40,
           40,
           40,
           28,
           28,
           28,
           28,
           28,
           28,
           40,
           28,
           28,
           28,
           28,
           40,
           28,
           28,
           40,
           28,
           28,
           28,
           40,
           28,
           28,
           40,
           28,
           40,
           40,
           40,
           40,
           40,
           40,
           40,
           40,
           40,
           40,
           40,
           40,
           40,
           40,
           40,
           40,
           40,
           40,
           40,
           40,
           40,
           40,
           40,
           40,
           40,
           40,
           40,
           40,
           40,
           40
          ]
         },
         "mode": "markers+text",
         "textposition": "top center",
         "type": "scatter",
         "x": [
          -1.2,
          -1.5938208461757783,
          -0.4,
          1.7476952713668936,
          -1.8,
          -0.19999999999999993,
          -0.21696602445958243,
          -2.2043642384652356e-16,
          1.5938208461757781,
          -0.6382887966765647,
          -1.7476952713668938,
          -0.20000000000000018,
          2.4,
          0.21696602445958177,
          -2.8784789208434924,
          2.353884672967753,
          -3,
          0.638288796676564,
          -1.3473193467079825,
          1.039230484541326,
          1.0225165441160786,
          -1.0225165441160806,
          2.2173108780270883,
          1.3473193467079814,
          1.9955270695261085,
          1.697056274847714,
          1.3333685592470454,
          3.6,
          -2.523760598493544,
          2.878478920843492,
          1.9645822018358536,
          3,
          1.2462450390056592,
          -1.9645822018358556,
          2.7577599952283207,
          -1.2462450390056614,
          2.523760598493544,
          2.523760598493544,
          0.42694451481985535,
          0.6251334396009495,
          1.9645822018358552,
          2.878478920843492,
          -1.7999999999999992,
          -0.4269445148198557,
          -1.246245039005659,
          0.4269445148198546,
          -3.38289343482927,
          1.246245039005658,
          -1.964582201835855,
          -3.3828934348292705,
          -0.426944514819855,
          -1.8000000000000016,
          0.6251334396009479,
          2.7577599952283203,
          -0.6000000000000005,
          -0.6382887966765638,
          1.7476952713668936,
          0.2169660244595814,
          -1.0225165441160804,
          0.20000000000000007,
          0.4,
          -1.0392304845413265,
          -0.21696602445958119,
          1.593820846175778,
          0.20000000000000007,
          -1.3473193467079823,
          0.9184402376762155,
          -2.5237605984935434,
          1.8,
          0.468216772838708,
          -1.5938208461757772,
          1.347319346707982,
          1.0225165441160806,
          1.4695761589768238e-16,
          -2.878478920843492,
          0.638288796676564,
          -0.46821677283870766,
          -1.7476952713668936,
          0.6000000000000001,
          -0.9184402376762153,
          -1.3333685592470446,
          -1.995527069526109,
          0.4682167728387079,
          2.3538846729677525,
          -2.353884672967753,
          1.3333685592470443,
          2.2173108780270874,
          -2.2173108780270883,
          -1.9955270695261087,
          0.918440237676216,
          0,
          7.347880794884119e-17,
          1.0392304845413265,
          -0.5999999999999998,
          1.2,
          -4.408728476930471e-16,
          -1.0392304845413265,
          -0.4682167728387088,
          0.6000000000000001,
          -2.2173108780270883,
          1.6970562748477136,
          -1.3333685592470452,
          -2.353884672967753,
          -1.6970562748477145,
          1.9955270695261085,
          -2.4,
          -1.6970562748477138,
          -0.9184402376762167
         ],
         "y": [
          1.4695761589768238e-16,
          -0.8365017096787826,
          4.898587196589413e-17,
          -0.43076819571760405,
          -5.789241538835891e-16,
          0.3464101615137755,
          -1.7868759733764972,
          -1.2,
          -0.8365017096787831,
          -1.6830292368337465,
          -0.4307681957176034,
          -0.3464101615137754,
          0,
          -1.7868759733764972,
          -0.8451976705242882,
          0.4682167728387078,
          1.6996616692943939e-15,
          -1.6830292368337467,
          -1.193620784833431,
          -0.6000000000000005,
          -1.4813709586085826,
          -1.4813709586085815,
          0.9184402376762154,
          -1.193620784833432,
          1.3333685592470452,
          1.697056274847714,
          1.9955270695261085,
          0,
          -1.6219224523667926,
          0.845197670524289,
          -2.2672487230627763,
          0,
          2.728895986063555,
          -2.2672487230627745,
          2.3140353948715413,
          -2.728895986063554,
          -1.6219224523667923,
          1.6219224523667926,
          2.969464325642798,
          3.545307910843949,
          2.267248723062775,
          -0.8451976705242894,
          3.1176914536239795,
          -2.969464325642798,
          2.7288959860635553,
          -2.9694643256427984,
          1.231272515972408,
          -2.7288959860635558,
          2.267248723062775,
          -1.2312725159724072,
          2.9694643256427984,
          -3.1176914536239786,
          -3.5453079108439494,
          -2.3140353948715426,
          -1.039230484541326,
          1.6830292368337467,
          0.43076819571760394,
          1.7868759733764972,
          1.4813709586085817,
          -0.34641016151377546,
          0,
          -0.5999999999999996,
          1.7868759733764972,
          0.8365017096787833,
          0.34641016151377546,
          1.1936207848334315,
          2.2173108780270883,
          1.6219224523667934,
          0,
          2.353884672967753,
          0.8365017096787843,
          1.1936207848334315,
          1.4813709586085815,
          2.4,
          0.845197670524289,
          1.6830292368337467,
          2.353884672967753,
          0.43076819571760383,
          -1.0392304845413263,
          2.2173108780270883,
          1.9955270695261087,
          -1.3333685592470446,
          -2.353884672967753,
          -0.4682167728387089,
          -0.46821677283870805,
          -1.995527069526109,
          -0.9184402376762169,
          -0.9184402376762152,
          1.3333685592470452,
          -2.217310878027088,
          0,
          1.2,
          0.5999999999999999,
          1.0392304845413265,
          0,
          -2.4,
          0.5999999999999999,
          -2.3538846729677525,
          1.0392304845413263,
          0.9184402376762157,
          -1.6970562748477145,
          -1.9955270695261085,
          0.46821677283870866,
          -1.6970562748477138,
          -1.3333685592470452,
          2.9391523179536476e-16,
          1.697056274847714,
          -2.2173108780270874
         ]
        }
       ],
       "layout": {
        "hovermode": "closest",
        "margin": {
         "b": 20,
         "l": 5,
         "r": 5,
         "t": 40
        },
        "showlegend": false,
        "template": {
         "data": {
          "bar": [
           {
            "error_x": {
             "color": "#2a3f5f"
            },
            "error_y": {
             "color": "#2a3f5f"
            },
            "marker": {
             "line": {
              "color": "#E5ECF6",
              "width": 0.5
             },
             "pattern": {
              "fillmode": "overlay",
              "size": 10,
              "solidity": 0.2
             }
            },
            "type": "bar"
           }
          ],
          "barpolar": [
           {
            "marker": {
             "line": {
              "color": "#E5ECF6",
              "width": 0.5
             },
             "pattern": {
              "fillmode": "overlay",
              "size": 10,
              "solidity": 0.2
             }
            },
            "type": "barpolar"
           }
          ],
          "carpet": [
           {
            "aaxis": {
             "endlinecolor": "#2a3f5f",
             "gridcolor": "white",
             "linecolor": "white",
             "minorgridcolor": "white",
             "startlinecolor": "#2a3f5f"
            },
            "baxis": {
             "endlinecolor": "#2a3f5f",
             "gridcolor": "white",
             "linecolor": "white",
             "minorgridcolor": "white",
             "startlinecolor": "#2a3f5f"
            },
            "type": "carpet"
           }
          ],
          "choropleth": [
           {
            "colorbar": {
             "outlinewidth": 0,
             "ticks": ""
            },
            "type": "choropleth"
           }
          ],
          "contour": [
           {
            "colorbar": {
             "outlinewidth": 0,
             "ticks": ""
            },
            "colorscale": [
             [
              0,
              "#0d0887"
             ],
             [
              0.1111111111111111,
              "#46039f"
             ],
             [
              0.2222222222222222,
              "#7201a8"
             ],
             [
              0.3333333333333333,
              "#9c179e"
             ],
             [
              0.4444444444444444,
              "#bd3786"
             ],
             [
              0.5555555555555556,
              "#d8576b"
             ],
             [
              0.6666666666666666,
              "#ed7953"
             ],
             [
              0.7777777777777778,
              "#fb9f3a"
             ],
             [
              0.8888888888888888,
              "#fdca26"
             ],
             [
              1,
              "#f0f921"
             ]
            ],
            "type": "contour"
           }
          ],
          "contourcarpet": [
           {
            "colorbar": {
             "outlinewidth": 0,
             "ticks": ""
            },
            "type": "contourcarpet"
           }
          ],
          "heatmap": [
           {
            "colorbar": {
             "outlinewidth": 0,
             "ticks": ""
            },
            "colorscale": [
             [
              0,
              "#0d0887"
             ],
             [
              0.1111111111111111,
              "#46039f"
             ],
             [
              0.2222222222222222,
              "#7201a8"
             ],
             [
              0.3333333333333333,
              "#9c179e"
             ],
             [
              0.4444444444444444,
              "#bd3786"
             ],
             [
              0.5555555555555556,
              "#d8576b"
             ],
             [
              0.6666666666666666,
              "#ed7953"
             ],
             [
              0.7777777777777778,
              "#fb9f3a"
             ],
             [
              0.8888888888888888,
              "#fdca26"
             ],
             [
              1,
              "#f0f921"
             ]
            ],
            "type": "heatmap"
           }
          ],
          "heatmapgl": [
           {
            "colorbar": {
             "outlinewidth": 0,
             "ticks": ""
            },
            "colorscale": [
             [
              0,
              "#0d0887"
             ],
             [
              0.1111111111111111,
              "#46039f"
             ],
             [
              0.2222222222222222,
              "#7201a8"
             ],
             [
              0.3333333333333333,
              "#9c179e"
             ],
             [
              0.4444444444444444,
              "#bd3786"
             ],
             [
              0.5555555555555556,
              "#d8576b"
             ],
             [
              0.6666666666666666,
              "#ed7953"
             ],
             [
              0.7777777777777778,
              "#fb9f3a"
             ],
             [
              0.8888888888888888,
              "#fdca26"
             ],
             [
              1,
              "#f0f921"
             ]
            ],
            "type": "heatmapgl"
           }
          ],
          "histogram": [
           {
            "marker": {
             "pattern": {
              "fillmode": "overlay",
              "size": 10,
              "solidity": 0.2
             }
            },
            "type": "histogram"
           }
          ],
          "histogram2d": [
           {
            "colorbar": {
             "outlinewidth": 0,
             "ticks": ""
            },
            "colorscale": [
             [
              0,
              "#0d0887"
             ],
             [
              0.1111111111111111,
              "#46039f"
             ],
             [
              0.2222222222222222,
              "#7201a8"
             ],
             [
              0.3333333333333333,
              "#9c179e"
             ],
             [
              0.4444444444444444,
              "#bd3786"
             ],
             [
              0.5555555555555556,
              "#d8576b"
             ],
             [
              0.6666666666666666,
              "#ed7953"
             ],
             [
              0.7777777777777778,
              "#fb9f3a"
             ],
             [
              0.8888888888888888,
              "#fdca26"
             ],
             [
              1,
              "#f0f921"
             ]
            ],
            "type": "histogram2d"
           }
          ],
          "histogram2dcontour": [
           {
            "colorbar": {
             "outlinewidth": 0,
             "ticks": ""
            },
            "colorscale": [
             [
              0,
              "#0d0887"
             ],
             [
              0.1111111111111111,
              "#46039f"
             ],
             [
              0.2222222222222222,
              "#7201a8"
             ],
             [
              0.3333333333333333,
              "#9c179e"
             ],
             [
              0.4444444444444444,
              "#bd3786"
             ],
             [
              0.5555555555555556,
              "#d8576b"
             ],
             [
              0.6666666666666666,
              "#ed7953"
             ],
             [
              0.7777777777777778,
              "#fb9f3a"
             ],
             [
              0.8888888888888888,
              "#fdca26"
             ],
             [
              1,
              "#f0f921"
             ]
            ],
            "type": "histogram2dcontour"
           }
          ],
          "mesh3d": [
           {
            "colorbar": {
             "outlinewidth": 0,
             "ticks": ""
            },
            "type": "mesh3d"
           }
          ],
          "parcoords": [
           {
            "line": {
             "colorbar": {
              "outlinewidth": 0,
              "ticks": ""
             }
            },
            "type": "parcoords"
           }
          ],
          "pie": [
           {
            "automargin": true,
            "type": "pie"
           }
          ],
          "scatter": [
           {
            "fillpattern": {
             "fillmode": "overlay",
             "size": 10,
             "solidity": 0.2
            },
            "type": "scatter"
           }
          ],
          "scatter3d": [
           {
            "line": {
             "colorbar": {
              "outlinewidth": 0,
              "ticks": ""
             }
            },
            "marker": {
             "colorbar": {
              "outlinewidth": 0,
              "ticks": ""
             }
            },
            "type": "scatter3d"
           }
          ],
          "scattercarpet": [
           {
            "marker": {
             "colorbar": {
              "outlinewidth": 0,
              "ticks": ""
             }
            },
            "type": "scattercarpet"
           }
          ],
          "scattergeo": [
           {
            "marker": {
             "colorbar": {
              "outlinewidth": 0,
              "ticks": ""
             }
            },
            "type": "scattergeo"
           }
          ],
          "scattergl": [
           {
            "marker": {
             "colorbar": {
              "outlinewidth": 0,
              "ticks": ""
             }
            },
            "type": "scattergl"
           }
          ],
          "scattermapbox": [
           {
            "marker": {
             "colorbar": {
              "outlinewidth": 0,
              "ticks": ""
             }
            },
            "type": "scattermapbox"
           }
          ],
          "scatterpolar": [
           {
            "marker": {
             "colorbar": {
              "outlinewidth": 0,
              "ticks": ""
             }
            },
            "type": "scatterpolar"
           }
          ],
          "scatterpolargl": [
           {
            "marker": {
             "colorbar": {
              "outlinewidth": 0,
              "ticks": ""
             }
            },
            "type": "scatterpolargl"
           }
          ],
          "scatterternary": [
           {
            "marker": {
             "colorbar": {
              "outlinewidth": 0,
              "ticks": ""
             }
            },
            "type": "scatterternary"
           }
          ],
          "surface": [
           {
            "colorbar": {
             "outlinewidth": 0,
             "ticks": ""
            },
            "colorscale": [
             [
              0,
              "#0d0887"
             ],
             [
              0.1111111111111111,
              "#46039f"
             ],
             [
              0.2222222222222222,
              "#7201a8"
             ],
             [
              0.3333333333333333,
              "#9c179e"
             ],
             [
              0.4444444444444444,
              "#bd3786"
             ],
             [
              0.5555555555555556,
              "#d8576b"
             ],
             [
              0.6666666666666666,
              "#ed7953"
             ],
             [
              0.7777777777777778,
              "#fb9f3a"
             ],
             [
              0.8888888888888888,
              "#fdca26"
             ],
             [
              1,
              "#f0f921"
             ]
            ],
            "type": "surface"
           }
          ],
          "table": [
           {
            "cells": {
             "fill": {
              "color": "#EBF0F8"
             },
             "line": {
              "color": "white"
             }
            },
            "header": {
             "fill": {
              "color": "#C8D4E3"
             },
             "line": {
              "color": "white"
             }
            },
            "type": "table"
           }
          ]
         },
         "layout": {
          "annotationdefaults": {
           "arrowcolor": "#2a3f5f",
           "arrowhead": 0,
           "arrowwidth": 1
          },
          "autotypenumbers": "strict",
          "coloraxis": {
           "colorbar": {
            "outlinewidth": 0,
            "ticks": ""
           }
          },
          "colorscale": {
           "diverging": [
            [
             0,
             "#8e0152"
            ],
            [
             0.1,
             "#c51b7d"
            ],
            [
             0.2,
             "#de77ae"
            ],
            [
             0.3,
             "#f1b6da"
            ],
            [
             0.4,
             "#fde0ef"
            ],
            [
             0.5,
             "#f7f7f7"
            ],
            [
             0.6,
             "#e6f5d0"
            ],
            [
             0.7,
             "#b8e186"
            ],
            [
             0.8,
             "#7fbc41"
            ],
            [
             0.9,
             "#4d9221"
            ],
            [
             1,
             "#276419"
            ]
           ],
           "sequential": [
            [
             0,
             "#0d0887"
            ],
            [
             0.1111111111111111,
             "#46039f"
            ],
            [
             0.2222222222222222,
             "#7201a8"
            ],
            [
             0.3333333333333333,
             "#9c179e"
            ],
            [
             0.4444444444444444,
             "#bd3786"
            ],
            [
             0.5555555555555556,
             "#d8576b"
            ],
            [
             0.6666666666666666,
             "#ed7953"
            ],
            [
             0.7777777777777778,
             "#fb9f3a"
            ],
            [
             0.8888888888888888,
             "#fdca26"
            ],
            [
             1,
             "#f0f921"
            ]
           ],
           "sequentialminus": [
            [
             0,
             "#0d0887"
            ],
            [
             0.1111111111111111,
             "#46039f"
            ],
            [
             0.2222222222222222,
             "#7201a8"
            ],
            [
             0.3333333333333333,
             "#9c179e"
            ],
            [
             0.4444444444444444,
             "#bd3786"
            ],
            [
             0.5555555555555556,
             "#d8576b"
            ],
            [
             0.6666666666666666,
             "#ed7953"
            ],
            [
             0.7777777777777778,
             "#fb9f3a"
            ],
            [
             0.8888888888888888,
             "#fdca26"
            ],
            [
             1,
             "#f0f921"
            ]
           ]
          },
          "colorway": [
           "#636efa",
           "#EF553B",
           "#00cc96",
           "#ab63fa",
           "#FFA15A",
           "#19d3f3",
           "#FF6692",
           "#B6E880",
           "#FF97FF",
           "#FECB52"
          ],
          "font": {
           "color": "#2a3f5f"
          },
          "geo": {
           "bgcolor": "white",
           "lakecolor": "white",
           "landcolor": "#E5ECF6",
           "showlakes": true,
           "showland": true,
           "subunitcolor": "white"
          },
          "hoverlabel": {
           "align": "left"
          },
          "hovermode": "closest",
          "mapbox": {
           "style": "light"
          },
          "paper_bgcolor": "white",
          "plot_bgcolor": "#E5ECF6",
          "polar": {
           "angularaxis": {
            "gridcolor": "white",
            "linecolor": "white",
            "ticks": ""
           },
           "bgcolor": "#E5ECF6",
           "radialaxis": {
            "gridcolor": "white",
            "linecolor": "white",
            "ticks": ""
           }
          },
          "scene": {
           "xaxis": {
            "backgroundcolor": "#E5ECF6",
            "gridcolor": "white",
            "gridwidth": 2,
            "linecolor": "white",
            "showbackground": true,
            "ticks": "",
            "zerolinecolor": "white"
           },
           "yaxis": {
            "backgroundcolor": "#E5ECF6",
            "gridcolor": "white",
            "gridwidth": 2,
            "linecolor": "white",
            "showbackground": true,
            "ticks": "",
            "zerolinecolor": "white"
           },
           "zaxis": {
            "backgroundcolor": "#E5ECF6",
            "gridcolor": "white",
            "gridwidth": 2,
            "linecolor": "white",
            "showbackground": true,
            "ticks": "",
            "zerolinecolor": "white"
           }
          },
          "shapedefaults": {
           "line": {
            "color": "#2a3f5f"
           }
          },
          "ternary": {
           "aaxis": {
            "gridcolor": "white",
            "linecolor": "white",
            "ticks": ""
           },
           "baxis": {
            "gridcolor": "white",
            "linecolor": "white",
            "ticks": ""
           },
           "bgcolor": "#E5ECF6",
           "caxis": {
            "gridcolor": "white",
            "linecolor": "white",
            "ticks": ""
           }
          },
          "title": {
           "x": 0.05
          },
          "xaxis": {
           "automargin": true,
           "gridcolor": "white",
           "linecolor": "white",
           "ticks": "",
           "title": {
            "standoff": 15
           },
           "zerolinecolor": "white",
           "zerolinewidth": 2
          },
          "yaxis": {
           "automargin": true,
           "gridcolor": "white",
           "linecolor": "white",
           "ticks": "",
           "title": {
            "standoff": 15
           },
           "zerolinecolor": "white",
           "zerolinewidth": 2
          }
         }
        },
        "title": {
         "text": "<br>Network graph of crystal structure centered with Ti#108"
        },
        "xaxis": {
         "showgrid": false,
         "showticklabels": false,
         "zeroline": false
        },
        "yaxis": {
         "showgrid": false,
         "showticklabels": false,
         "zeroline": false
        }
       }
      },
      "text/html": [
       "<div>                            <div id=\"53609931-77a6-42ae-bc5b-7b7df28d2be2\" class=\"plotly-graph-div\" style=\"height:525px; width:100%;\"></div>            <script type=\"text/javascript\">                require([\"plotly\"], function(Plotly) {                    window.PLOTLYENV=window.PLOTLYENV || {};                                    if (document.getElementById(\"53609931-77a6-42ae-bc5b-7b7df28d2be2\")) {                    Plotly.newPlot(                        \"53609931-77a6-42ae-bc5b-7b7df28d2be2\",                        [{\"hoverinfo\":\"text\",\"hovertext\":[\"Li#1: coor_num: 9 -- O#64.O#70.Ni#104.O#55.O#72.O#57.O#63.Ni#107.Ni#99\",\"O#57: coor_num: 6 -- Li#1.Li#4.Ni#99.Li#3.Mn#93.Ni#106\",\"O#70: coor_num: 6 -- Ti#108.Li#1.Ni#105.Li#2.Mn#90.Li#7\",\"O#72: coor_num: 6 -- Li#1.Ni#104.Mn#90.Li#9.Li#3.Ni#98\",\"O#55: coor_num: 6 -- Li#1.Li#2.Li#5.Ni#107.Ni#99.Mn#91\",\"O#64: coor_num: 6 -- Ti#108.Li#1.Ni#104.Li#5.Mn#89.Li#4\",\"O#63: coor_num: 6 -- Li#1.Li#7.Ni#107.Li#9.Mn#93.Ni#100\",\"Li#2: coor_num: 9 -- O#70.O#65.Ni#105.O#55.O#71.O#61.O#56.Ni#107.Ni#101\",\"O#71: coor_num: 6 -- Ni#105.Li#2.Mn#88.Li#8.Li#3.Ni#98\",\"O#61: coor_num: 6 -- Li#2.Li#7.Ni#107.Li#8.Ni#101.Mn#92\",\"O#56: coor_num: 6 -- Li#2.Li#6.Mn#91.Li#3.Ni#101.Ni#106\",\"O#65: coor_num: 6 -- Ti#108.Li#2.Co#83.Li#5.Mn#88.Li#6\",\"Li#3: coor_num: 10 -- Ni#104.O#71.O#72.O#57.O#56.O#66.Ni#98.Ni#101.O#62.Ni#106\",\"O#66: coor_num: 6 -- Ni#104.Mn#88.Li#4.Li#6.Li#3.Ni#97\",\"O#62: coor_num: 6 -- Li#8.Li#9.Li#3.Ni#101.Mn#93.Co#84\",\"Li#4: coor_num: 10 -- O#64.Ni#104.O#57.O#58.O#67.O#66.Ni#99.Ni#97.O#60.Ni#106\",\"O#60: coor_num: 6 -- Li#4.Li#7.Li#6.Mn#92.Ni#100.Ni#106\",\"O#67: coor_num: 6 -- Ni#105.Mn#89.Li#4.Li#7.Li#8.Ni#97\",\"O#58: coor_num: 6 -- Li#5.Li#4.Ni#99.Li#8.Co#84.Mn#92\",\"Li#5: coor_num: 7 -- O#64.O#65.O#55.O#68.O#59.O#58.Ni#99\",\"O#68: coor_num: 6 -- Co#83.Li#5.Mn#89.Li#8.Li#9.Ni#98\",\"O#59: coor_num: 6 -- Li#5.Li#6.Mn#91.Li#9.Co#84.Ni#100\",\"Li#6: coor_num: 9 -- O#65.O#56.O#59.O#66.O#69.Ni#97.O#60.Ni#100.Ni#106\",\"O#69: coor_num: 6 -- Co#83.Mn#90.Li#7.Li#6.Li#9.Ni#97\",\"Li#7: coor_num: 10 -- O#70.Ni#105.O#61.O#63.O#67.O#69.Ni#107.Ni#97.O#60.Ni#100\",\"Li#8: coor_num: 9 -- Ni#105.O#71.O#68.O#61.O#58.O#67.Ni#98.Ni#101.O#62\",\"Li#9: coor_num: 8 -- O#72.O#68.O#63.O#59.O#69.Ni#98.O#62.Ni#100\",\"Li#10: coor_num: 10 -- Ni#107.Ni#99.Ni#102.Ni#95.O#79.O#29.O#32.O#73.O#74.O#28\",\"O#73: coor_num: 6 -- Mn#85.Ni#95.Ni#103.Li#10.Li#13.Li#12\",\"O#29: coor_num: 6 -- Ni#107.Mn#91.Ni#101.Li#10.Li#16.Li#11\",\"O#79: coor_num: 6 -- Mn#85.Ni#102.Ni#96.Li#10.Li#16.Li#18\",\"O#28: coor_num: 6 -- Ni#107.Ni#99.Mn#93.Li#10.Li#18.Li#12\",\"O#32: coor_num: 6 -- Ni#99.Mn#91.Co#84.Li#10.Li#13.Li#14\",\"O#74: coor_num: 6 -- Ni#102.Ni#95.Mn#86.Li#10.Li#11.Li#14\",\"Li#11: coor_num: 10 -- Ni#102.Ni#101.O#29.O#74.Ni#106.Ni#94.O#33.O#80.O#30.O#75\",\"O#75: coor_num: 6 -- Ni#103.Mn#86.Ni#94.Li#11.Li#12.Li#15\",\"O#80: coor_num: 6 -- Ni#102.Mn#87.Ni#94.Li#16.Li#11.Li#17\",\"O#30: coor_num: 6 -- Ni#101.Mn#93.Ni#106.Li#11.Li#12.Li#17\",\"O#33: coor_num: 6 -- Mn#91.Ni#100.Ni#106.Li#11.Li#14.Li#15\",\"Li#12: coor_num: 10 -- Ni#99.Ni#103.O#73.O#28.Ni#106.Ni#94.O#81.O#31.O#30.O#75\",\"O#31: coor_num: 6 -- Ni#99.Mn#92.Ni#106.Li#13.Li#12.Li#15\",\"O#81: coor_num: 6 -- Mn#85.Co#82.Ni#94.Li#18.Li#12.Li#17\",\"Li#13: coor_num: 9 -- Ni#99.Ni#95.Ni#103.O#32.O#73.O#31.O#77.O#35.O#76\",\"O#76: coor_num: 6 -- Ni#96.Ni#103.Mn#87.Li#16.Li#13.Li#15\",\"O#35: coor_num: 6 -- Ni#101.Co#84.Mn#92.Li#16.Li#13.Li#17\",\"O#77: coor_num: 6 -- Ni#95.Co#82.Mn#87.Li#13.Li#14.Li#17\",\"Li#14: coor_num: 8 -- Ni#95.O#32.O#74.Ni#100.O#33.O#77.O#36.O#78\",\"O#78: coor_num: 6 -- Ni#96.Mn#86.Co#82.Li#18.Li#14.Li#15\",\"O#36: coor_num: 6 -- Mn#93.Co#84.Ni#100.Li#18.Li#14.Li#17\",\"Li#15: coor_num: 10 -- Ni#96.Ni#103.Ni#100.Ni#106.O#33.O#34.O#31.O#75.O#78.O#76\",\"O#34: coor_num: 6 -- Ni#107.Mn#92.Ni#100.Li#16.Li#18.Li#15\",\"Li#16: coor_num: 10 -- Ni#107.Ni#102.Ni#101.Ni#96.O#79.O#29.O#80.O#34.O#35.O#76\",\"Li#17: coor_num: 8 -- Ni#101.Ni#94.O#81.O#80.O#77.O#35.O#30.O#36\",\"Li#18: coor_num: 9 -- Ni#107.Ni#96.O#79.O#28.Ni#100.O#81.O#34.O#36.O#78\",\"Li#19: coor_num: 9 -- O#37.O#41.Ni#104.O#46.O#40.O#48.O#49.Ni#95.Ni#103\",\"O#48: coor_num: 6 -- Li#19.Li#27.Mn#85.Li#21.Ni#103.Ni#94\",\"O#40: coor_num: 6 -- Li#19.Ni#104.Mn#89.Li#21.Li#22.Ni#97\",\"O#46: coor_num: 6 -- Li#20.Li#19.Li#25.Mn#85.Ni#102.Ni#95\",\"O#49: coor_num: 6 -- Li#19.Li#23.Ni#95.Li#22.Ni#103.Mn#87\",\"O#41: coor_num: 6 -- Ti#108.Li#20.Li#19.Co#83.Mn#89.Li#23\",\"O#37: coor_num: 6 -- Ti#108.Li#19.Ni#104.Li#25.Mn#90.Li#27\",\"Li#20: coor_num: 8 -- O#38.O#41.O#46.O#42.O#47.O#50.Ni#102.Ni#95\",\"O#47: coor_num: 6 -- Li#20.Li#26.Ni#102.Li#21.Mn#86.Ni#94\",\"O#42: coor_num: 6 -- Li#20.Co#83.Mn#88.Li#21.Li#24.Ni#97\",\"O#38: coor_num: 6 -- Ti#108.Li#20.Ni#105.Li#25.Mn#88.Li#26\",\"O#50: coor_num: 6 -- Li#20.Li#23.Ni#95.Li#24.Mn#86.Co#82\",\"Li#21: coor_num: 10 -- Ni#104.O#42.O#40.O#48.O#47.O#39.Ni#97.Ni#103.O#51.Ni#94\",\"O#51: coor_num: 6 -- Li#21.Li#24.Li#22.Ni#96.Ni#103.Mn#86\",\"O#39: coor_num: 6 -- Ni#104.Mn#88.Li#26.Li#27.Li#21.Ni#98\",\"Li#22: coor_num: 10 -- Ni#105.O#43.O#40.O#52.O#49.O#44.Ni#97.Ni#96.Ni#103.O#51\",\"O#52: coor_num: 6 -- Li#25.Li#26.Ni#102.Li#22.Ni#96.Mn#87\",\"O#43: coor_num: 6 -- Ni#105.Li#25.Mn#90.Li#24.Li#22.Ni#97\",\"O#44: coor_num: 6 -- Ni#105.Mn#89.Li#26.Li#23.Li#22.Ni#98\",\"Li#23: coor_num: 8 -- O#41.O#49.O#50.O#44.O#45.Ni#95.Ni#98.O#53\",\"O#53: coor_num: 6 -- Li#26.Li#27.Li#23.Co#82.Mn#87.Ni#94\",\"O#45: coor_num: 6 -- Co#83.Mn#90.Li#27.Li#23.Li#24.Ni#98\",\"Li#24: coor_num: 8 -- O#42.O#43.O#54.O#50.O#45.Ni#97.Ni#96.O#51\",\"O#54: coor_num: 6 -- Li#25.Li#27.Mn#85.Li#24.Ni#96.Co#82\",\"Li#25: coor_num: 9 -- O#37.O#38.Ni#105.O#46.O#43.O#54.O#52.Ni#102.Ni#96\",\"Li#26: coor_num: 10 -- O#38.Ni#105.O#47.O#52.O#39.O#44.Ni#102.Ni#98.O#53.Ni#94\",\"Li#27: coor_num: 9 -- O#37.Ni#104.O#48.O#54.O#39.O#45.Ni#98.O#53.Ni#94\",\"Mn#93: coor_num: 6 -- O#57.O#63.O#28.O#62.O#30.O#36\",\"Ni#99: coor_num: 12 -- Li#1.Li#5.O#55.Li#4.O#57.O#58.O#32.O#28.O#31.Li#10.Li#13.Li#12\",\"Ni#107: coor_num: 12 -- Li#1.Li#2.O#55.Li#7.O#61.O#63.O#29.O#28.O#34.Li#10.Li#16.Li#18\",\"Mn#91: coor_num: 6 -- O#55.O#56.O#59.O#29.O#32.O#33\",\"Ni#101: coor_num: 12 -- Li#2.O#61.O#56.Li#8.Li#3.O#29.O#62.O#35.O#30.Li#16.Li#11.Li#17\",\"Ni#106: coor_num: 12 -- Li#4.Li#6.O#57.O#56.Li#3.O#60.O#33.O#31.O#30.Li#11.Li#12.Li#15\",\"Mn#92: coor_num: 6 -- O#61.O#58.O#60.O#34.O#31.O#35\",\"Co#84: coor_num: 6 -- O#59.O#58.O#32.O#62.O#35.O#36\",\"Ni#100: coor_num: 12 -- Li#7.Li#6.O#63.O#59.Li#9.O#60.O#33.O#34.O#36.Li#18.Li#14.Li#15\",\"Ti#108: coor_num: 6 -- O#37.O#38.O#64.O#70.O#65.O#41\",\"Mn#90: coor_num: 6 -- O#37.O#70.O#72.O#43.O#69.O#45\",\"Ni#104: coor_num: 12 -- O#37.O#64.Li#1.Li#19.O#72.O#40.Li#4.Li#27.O#39.O#66.Li#21.Li#3\",\"Mn#88: coor_num: 6 -- O#38.O#65.O#42.O#71.O#39.O#66\",\"Ni#105: coor_num: 12 -- O#38.O#70.Li#2.Li#25.O#71.O#43.Li#7.Li#26.O#67.O#44.Li#8.Li#22\",\"Ni#98: coor_num: 12 -- O#71.O#72.O#68.Li#26.Li#27.Li#23.O#39.O#44.O#45.Li#8.Li#9.Li#3\",\"Mn#89: coor_num: 6 -- O#64.O#41.O#68.O#40.O#67.O#44\",\"Ni#97: coor_num: 12 -- O#42.O#43.O#40.Li#4.Li#7.Li#6.O#67.O#66.O#69.Li#21.Li#24.Li#22\",\"Co#83: coor_num: 6 -- O#65.O#41.O#42.O#68.O#69.O#45\",\"Mn#85: coor_num: 6 -- O#46.O#48.O#54.O#79.O#73.O#81\",\"Ni#102: coor_num: 12 -- Li#20.Li#25.O#46.Li#26.O#47.O#52.O#79.O#74.O#80.Li#10.Li#16.Li#11\",\"Ni#95: coor_num: 12 -- Li#20.Li#19.O#46.Li#23.O#49.O#50.O#73.O#74.O#77.Li#10.Li#13.Li#14\",\"Mn#86: coor_num: 6 -- O#47.O#50.O#74.O#51.O#75.O#78\",\"Ni#94: coor_num: 12 -- Li#26.Li#27.O#48.O#47.Li#21.O#53.O#81.O#80.O#75.Li#11.Li#12.Li#17\",\"Ni#103: coor_num: 12 -- Li#19.O#48.O#49.Li#21.Li#22.O#73.O#51.O#75.O#76.Li#13.Li#12.Li#15\",\"Mn#87: coor_num: 6 -- O#52.O#49.O#53.O#80.O#77.O#76\",\"Co#82: coor_num: 6 -- O#54.O#50.O#53.O#81.O#77.O#78\",\"Ni#96: coor_num: 12 -- Li#25.O#54.O#52.Li#24.Li#22.O#79.O#51.O#78.O#76.Li#16.Li#18.Li#15\"],\"marker\":{\"color\":[\"rgba(78,101,155, 1)\",\"rgba(178,101,155, 1)\",\"rgba(178,101,155, 1)\",\"rgba(178,101,155, 1)\",\"rgba(178,101,155, 1)\",\"rgba(178,101,155, 1)\",\"rgba(178,101,155, 1)\",\"rgba(78,101,155, 1)\",\"rgba(178,101,155, 1)\",\"rgba(178,101,155, 1)\",\"rgba(178,101,155, 1)\",\"rgba(178,101,155, 1)\",\"rgba(78,101,155, 1)\",\"rgba(178,101,155, 1)\",\"rgba(178,101,155, 1)\",\"rgba(78,101,155, 1)\",\"rgba(178,101,155, 1)\",\"rgba(178,101,155, 1)\",\"rgba(178,101,155, 1)\",\"rgba(78,101,155, 1)\",\"rgba(178,101,155, 1)\",\"rgba(178,101,155, 1)\",\"rgba(78,101,155, 1)\",\"rgba(178,101,155, 1)\",\"rgba(78,101,155, 1)\",\"rgba(78,101,155, 1)\",\"rgba(78,101,155, 1)\",\"rgba(78,101,155, 1)\",\"rgba(178,101,155, 1)\",\"rgba(178,101,155, 1)\",\"rgba(178,101,155, 1)\",\"rgba(178,101,155, 1)\",\"rgba(178,101,155, 1)\",\"rgba(178,101,155, 1)\",\"rgba(78,101,155, 1)\",\"rgba(178,101,155, 1)\",\"rgba(178,101,155, 1)\",\"rgba(178,101,155, 1)\",\"rgba(178,101,155, 1)\",\"rgba(78,101,155, 1)\",\"rgba(178,101,155, 1)\",\"rgba(178,101,155, 1)\",\"rgba(78,101,155, 1)\",\"rgba(178,101,155, 1)\",\"rgba(178,101,155, 1)\",\"rgba(178,101,155, 1)\",\"rgba(78,101,155, 1)\",\"rgba(178,101,155, 1)\",\"rgba(178,101,155, 1)\",\"rgba(78,101,155, 1)\",\"rgba(178,101,155, 1)\",\"rgba(78,101,155, 1)\",\"rgba(78,101,155, 1)\",\"rgba(78,101,155, 1)\",\"rgba(78,101,155, 1)\",\"rgba(178,101,155, 1)\",\"rgba(178,101,155, 1)\",\"rgba(178,101,155, 1)\",\"rgba(178,101,155, 1)\",\"rgba(178,101,155, 1)\",\"rgba(178,101,155, 1)\",\"rgba(78,101,155, 1)\",\"rgba(178,101,155, 1)\",\"rgba(178,101,155, 1)\",\"rgba(178,101,155, 1)\",\"rgba(178,101,155, 1)\",\"rgba(78,101,155, 1)\",\"rgba(178,101,155, 1)\",\"rgba(178,101,155, 1)\",\"rgba(78,101,155, 1)\",\"rgba(178,101,155, 1)\",\"rgba(178,101,155, 1)\",\"rgba(178,101,155, 1)\",\"rgba(78,101,155, 1)\",\"rgba(178,101,155, 1)\",\"rgba(178,101,155, 1)\",\"rgba(78,101,155, 1)\",\"rgba(178,101,155, 1)\",\"rgba(78,101,155, 1)\",\"rgba(78,101,155, 1)\",\"rgba(78,101,155, 1)\",\"rgba(253,207,158 , 1)\",\"rgba(182,118,108, 1)\",\"rgba(182,118,108, 1)\",\"rgba(253,207,158 , 1)\",\"rgba(182,118,108, 1)\",\"rgba(182,118,108, 1)\",\"rgba(253,207,158 , 1)\",\"rgba(239,164,132 , 1)\",\"rgba(182,118,108, 1)\",\"rgba(184,168,207, 1)\",\"rgba(253,207,158 , 1)\",\"rgba(182,118,108, 1)\",\"rgba(253,207,158 , 1)\",\"rgba(182,118,108, 1)\",\"rgba(182,118,108, 1)\",\"rgba(253,207,158 , 1)\",\"rgba(182,118,108, 1)\",\"rgba(239,164,132 , 1)\",\"rgba(253,207,158 , 1)\",\"rgba(182,118,108, 1)\",\"rgba(182,118,108, 1)\",\"rgba(253,207,158 , 1)\",\"rgba(182,118,108, 1)\",\"rgba(182,118,108, 1)\",\"rgba(253,207,158 , 1)\",\"rgba(239,164,132 , 1)\",\"rgba(182,118,108, 1)\"],\"line\":{\"width\":2},\"size\":[40,28,28,28,28,28,28,40,28,28,28,28,40,28,28,40,28,28,28,40,28,28,40,28,40,40,40,40,28,28,28,28,28,28,40,28,28,28,28,40,28,28,40,28,28,28,40,28,28,40,28,40,40,40,40,28,28,28,28,28,28,40,28,28,28,28,40,28,28,40,28,28,28,40,28,28,40,28,40,40,40,40,40,40,40,40,40,40,40,40,40,40,40,40,40,40,40,40,40,40,40,40,40,40,40,40,40,40]},\"mode\":\"markers+text\",\"textposition\":\"top center\",\"x\":[-1.2,-1.5938208461757783,-0.4,1.7476952713668936,-1.8,-0.19999999999999993,-0.21696602445958243,-2.2043642384652356e-16,1.5938208461757781,-0.6382887966765647,-1.7476952713668938,-0.20000000000000018,2.4,0.21696602445958177,-2.8784789208434924,2.353884672967753,-3.0,0.638288796676564,-1.3473193467079825,1.039230484541326,1.0225165441160786,-1.0225165441160806,2.2173108780270883,1.3473193467079814,1.9955270695261085,1.697056274847714,1.3333685592470454,3.6,-2.523760598493544,2.878478920843492,1.9645822018358536,3.0,1.2462450390056592,-1.9645822018358556,2.7577599952283207,-1.2462450390056614,2.523760598493544,2.523760598493544,0.42694451481985535,0.6251334396009495,1.9645822018358552,2.878478920843492,-1.7999999999999992,-0.4269445148198557,-1.246245039005659,0.4269445148198546,-3.38289343482927,1.246245039005658,-1.964582201835855,-3.3828934348292705,-0.426944514819855,-1.8000000000000016,0.6251334396009479,2.7577599952283203,-0.6000000000000005,-0.6382887966765638,1.7476952713668936,0.2169660244595814,-1.0225165441160804,0.20000000000000007,0.4,-1.0392304845413265,-0.21696602445958119,1.593820846175778,0.20000000000000007,-1.3473193467079823,0.9184402376762155,-2.5237605984935434,1.8,0.468216772838708,-1.5938208461757772,1.347319346707982,1.0225165441160806,1.4695761589768238e-16,-2.878478920843492,0.638288796676564,-0.46821677283870766,-1.7476952713668936,0.6000000000000001,-0.9184402376762153,-1.3333685592470446,-1.995527069526109,0.4682167728387079,2.3538846729677525,-2.353884672967753,1.3333685592470443,2.2173108780270874,-2.2173108780270883,-1.9955270695261087,0.918440237676216,0,7.347880794884119e-17,1.0392304845413265,-0.5999999999999998,1.2,-4.408728476930471e-16,-1.0392304845413265,-0.4682167728387088,0.6000000000000001,-2.2173108780270883,1.6970562748477136,-1.3333685592470452,-2.353884672967753,-1.6970562748477145,1.9955270695261085,-2.4,-1.6970562748477138,-0.9184402376762167],\"y\":[1.4695761589768238e-16,-0.8365017096787826,4.898587196589413e-17,-0.43076819571760405,-5.789241538835891e-16,0.3464101615137755,-1.7868759733764972,-1.2,-0.8365017096787831,-1.6830292368337465,-0.4307681957176034,-0.3464101615137754,0.0,-1.7868759733764972,-0.8451976705242882,0.4682167728387078,1.6996616692943939e-15,-1.6830292368337467,-1.193620784833431,-0.6000000000000005,-1.4813709586085826,-1.4813709586085815,0.9184402376762154,-1.193620784833432,1.3333685592470452,1.697056274847714,1.9955270695261085,0.0,-1.6219224523667926,0.845197670524289,-2.2672487230627763,0.0,2.728895986063555,-2.2672487230627745,2.3140353948715413,-2.728895986063554,-1.6219224523667923,1.6219224523667926,2.969464325642798,3.545307910843949,2.267248723062775,-0.8451976705242894,3.1176914536239795,-2.969464325642798,2.7288959860635553,-2.9694643256427984,1.231272515972408,-2.7288959860635558,2.267248723062775,-1.2312725159724072,2.9694643256427984,-3.1176914536239786,-3.5453079108439494,-2.3140353948715426,-1.039230484541326,1.6830292368337467,0.43076819571760394,1.7868759733764972,1.4813709586085817,-0.34641016151377546,0.0,-0.5999999999999996,1.7868759733764972,0.8365017096787833,0.34641016151377546,1.1936207848334315,2.2173108780270883,1.6219224523667934,0.0,2.353884672967753,0.8365017096787843,1.1936207848334315,1.4813709586085815,2.4,0.845197670524289,1.6830292368337467,2.353884672967753,0.43076819571760383,-1.0392304845413263,2.2173108780270883,1.9955270695261087,-1.3333685592470446,-2.353884672967753,-0.4682167728387089,-0.46821677283870805,-1.995527069526109,-0.9184402376762169,-0.9184402376762152,1.3333685592470452,-2.217310878027088,0,1.2,0.5999999999999999,1.0392304845413265,0.0,-2.4,0.5999999999999999,-2.3538846729677525,1.0392304845413263,0.9184402376762157,-1.6970562748477145,-1.9955270695261085,0.46821677283870866,-1.6970562748477138,-1.3333685592470452,2.9391523179536476e-16,1.697056274847714,-2.2173108780270874],\"type\":\"scatter\"}],                        {\"hovermode\":\"closest\",\"margin\":{\"b\":20,\"l\":5,\"r\":5,\"t\":40},\"showlegend\":false,\"title\":{\"text\":\"\\u003cbr\\u003eNetwork graph of crystal structure centered with Ti#108\"},\"xaxis\":{\"showgrid\":false,\"showticklabels\":false,\"zeroline\":false},\"yaxis\":{\"showgrid\":false,\"showticklabels\":false,\"zeroline\":false},\"template\":{\"data\":{\"histogram2dcontour\":[{\"type\":\"histogram2dcontour\",\"colorbar\":{\"outlinewidth\":0,\"ticks\":\"\"},\"colorscale\":[[0.0,\"#0d0887\"],[0.1111111111111111,\"#46039f\"],[0.2222222222222222,\"#7201a8\"],[0.3333333333333333,\"#9c179e\"],[0.4444444444444444,\"#bd3786\"],[0.5555555555555556,\"#d8576b\"],[0.6666666666666666,\"#ed7953\"],[0.7777777777777778,\"#fb9f3a\"],[0.8888888888888888,\"#fdca26\"],[1.0,\"#f0f921\"]]}],\"choropleth\":[{\"type\":\"choropleth\",\"colorbar\":{\"outlinewidth\":0,\"ticks\":\"\"}}],\"histogram2d\":[{\"type\":\"histogram2d\",\"colorbar\":{\"outlinewidth\":0,\"ticks\":\"\"},\"colorscale\":[[0.0,\"#0d0887\"],[0.1111111111111111,\"#46039f\"],[0.2222222222222222,\"#7201a8\"],[0.3333333333333333,\"#9c179e\"],[0.4444444444444444,\"#bd3786\"],[0.5555555555555556,\"#d8576b\"],[0.6666666666666666,\"#ed7953\"],[0.7777777777777778,\"#fb9f3a\"],[0.8888888888888888,\"#fdca26\"],[1.0,\"#f0f921\"]]}],\"heatmap\":[{\"type\":\"heatmap\",\"colorbar\":{\"outlinewidth\":0,\"ticks\":\"\"},\"colorscale\":[[0.0,\"#0d0887\"],[0.1111111111111111,\"#46039f\"],[0.2222222222222222,\"#7201a8\"],[0.3333333333333333,\"#9c179e\"],[0.4444444444444444,\"#bd3786\"],[0.5555555555555556,\"#d8576b\"],[0.6666666666666666,\"#ed7953\"],[0.7777777777777778,\"#fb9f3a\"],[0.8888888888888888,\"#fdca26\"],[1.0,\"#f0f921\"]]}],\"heatmapgl\":[{\"type\":\"heatmapgl\",\"colorbar\":{\"outlinewidth\":0,\"ticks\":\"\"},\"colorscale\":[[0.0,\"#0d0887\"],[0.1111111111111111,\"#46039f\"],[0.2222222222222222,\"#7201a8\"],[0.3333333333333333,\"#9c179e\"],[0.4444444444444444,\"#bd3786\"],[0.5555555555555556,\"#d8576b\"],[0.6666666666666666,\"#ed7953\"],[0.7777777777777778,\"#fb9f3a\"],[0.8888888888888888,\"#fdca26\"],[1.0,\"#f0f921\"]]}],\"contourcarpet\":[{\"type\":\"contourcarpet\",\"colorbar\":{\"outlinewidth\":0,\"ticks\":\"\"}}],\"contour\":[{\"type\":\"contour\",\"colorbar\":{\"outlinewidth\":0,\"ticks\":\"\"},\"colorscale\":[[0.0,\"#0d0887\"],[0.1111111111111111,\"#46039f\"],[0.2222222222222222,\"#7201a8\"],[0.3333333333333333,\"#9c179e\"],[0.4444444444444444,\"#bd3786\"],[0.5555555555555556,\"#d8576b\"],[0.6666666666666666,\"#ed7953\"],[0.7777777777777778,\"#fb9f3a\"],[0.8888888888888888,\"#fdca26\"],[1.0,\"#f0f921\"]]}],\"surface\":[{\"type\":\"surface\",\"colorbar\":{\"outlinewidth\":0,\"ticks\":\"\"},\"colorscale\":[[0.0,\"#0d0887\"],[0.1111111111111111,\"#46039f\"],[0.2222222222222222,\"#7201a8\"],[0.3333333333333333,\"#9c179e\"],[0.4444444444444444,\"#bd3786\"],[0.5555555555555556,\"#d8576b\"],[0.6666666666666666,\"#ed7953\"],[0.7777777777777778,\"#fb9f3a\"],[0.8888888888888888,\"#fdca26\"],[1.0,\"#f0f921\"]]}],\"mesh3d\":[{\"type\":\"mesh3d\",\"colorbar\":{\"outlinewidth\":0,\"ticks\":\"\"}}],\"scatter\":[{\"fillpattern\":{\"fillmode\":\"overlay\",\"size\":10,\"solidity\":0.2},\"type\":\"scatter\"}],\"parcoords\":[{\"type\":\"parcoords\",\"line\":{\"colorbar\":{\"outlinewidth\":0,\"ticks\":\"\"}}}],\"scatterpolargl\":[{\"type\":\"scatterpolargl\",\"marker\":{\"colorbar\":{\"outlinewidth\":0,\"ticks\":\"\"}}}],\"bar\":[{\"error_x\":{\"color\":\"#2a3f5f\"},\"error_y\":{\"color\":\"#2a3f5f\"},\"marker\":{\"line\":{\"color\":\"#E5ECF6\",\"width\":0.5},\"pattern\":{\"fillmode\":\"overlay\",\"size\":10,\"solidity\":0.2}},\"type\":\"bar\"}],\"scattergeo\":[{\"type\":\"scattergeo\",\"marker\":{\"colorbar\":{\"outlinewidth\":0,\"ticks\":\"\"}}}],\"scatterpolar\":[{\"type\":\"scatterpolar\",\"marker\":{\"colorbar\":{\"outlinewidth\":0,\"ticks\":\"\"}}}],\"histogram\":[{\"marker\":{\"pattern\":{\"fillmode\":\"overlay\",\"size\":10,\"solidity\":0.2}},\"type\":\"histogram\"}],\"scattergl\":[{\"type\":\"scattergl\",\"marker\":{\"colorbar\":{\"outlinewidth\":0,\"ticks\":\"\"}}}],\"scatter3d\":[{\"type\":\"scatter3d\",\"line\":{\"colorbar\":{\"outlinewidth\":0,\"ticks\":\"\"}},\"marker\":{\"colorbar\":{\"outlinewidth\":0,\"ticks\":\"\"}}}],\"scattermapbox\":[{\"type\":\"scattermapbox\",\"marker\":{\"colorbar\":{\"outlinewidth\":0,\"ticks\":\"\"}}}],\"scatterternary\":[{\"type\":\"scatterternary\",\"marker\":{\"colorbar\":{\"outlinewidth\":0,\"ticks\":\"\"}}}],\"scattercarpet\":[{\"type\":\"scattercarpet\",\"marker\":{\"colorbar\":{\"outlinewidth\":0,\"ticks\":\"\"}}}],\"carpet\":[{\"aaxis\":{\"endlinecolor\":\"#2a3f5f\",\"gridcolor\":\"white\",\"linecolor\":\"white\",\"minorgridcolor\":\"white\",\"startlinecolor\":\"#2a3f5f\"},\"baxis\":{\"endlinecolor\":\"#2a3f5f\",\"gridcolor\":\"white\",\"linecolor\":\"white\",\"minorgridcolor\":\"white\",\"startlinecolor\":\"#2a3f5f\"},\"type\":\"carpet\"}],\"table\":[{\"cells\":{\"fill\":{\"color\":\"#EBF0F8\"},\"line\":{\"color\":\"white\"}},\"header\":{\"fill\":{\"color\":\"#C8D4E3\"},\"line\":{\"color\":\"white\"}},\"type\":\"table\"}],\"barpolar\":[{\"marker\":{\"line\":{\"color\":\"#E5ECF6\",\"width\":0.5},\"pattern\":{\"fillmode\":\"overlay\",\"size\":10,\"solidity\":0.2}},\"type\":\"barpolar\"}],\"pie\":[{\"automargin\":true,\"type\":\"pie\"}]},\"layout\":{\"autotypenumbers\":\"strict\",\"colorway\":[\"#636efa\",\"#EF553B\",\"#00cc96\",\"#ab63fa\",\"#FFA15A\",\"#19d3f3\",\"#FF6692\",\"#B6E880\",\"#FF97FF\",\"#FECB52\"],\"font\":{\"color\":\"#2a3f5f\"},\"hovermode\":\"closest\",\"hoverlabel\":{\"align\":\"left\"},\"paper_bgcolor\":\"white\",\"plot_bgcolor\":\"#E5ECF6\",\"polar\":{\"bgcolor\":\"#E5ECF6\",\"angularaxis\":{\"gridcolor\":\"white\",\"linecolor\":\"white\",\"ticks\":\"\"},\"radialaxis\":{\"gridcolor\":\"white\",\"linecolor\":\"white\",\"ticks\":\"\"}},\"ternary\":{\"bgcolor\":\"#E5ECF6\",\"aaxis\":{\"gridcolor\":\"white\",\"linecolor\":\"white\",\"ticks\":\"\"},\"baxis\":{\"gridcolor\":\"white\",\"linecolor\":\"white\",\"ticks\":\"\"},\"caxis\":{\"gridcolor\":\"white\",\"linecolor\":\"white\",\"ticks\":\"\"}},\"coloraxis\":{\"colorbar\":{\"outlinewidth\":0,\"ticks\":\"\"}},\"colorscale\":{\"sequential\":[[0.0,\"#0d0887\"],[0.1111111111111111,\"#46039f\"],[0.2222222222222222,\"#7201a8\"],[0.3333333333333333,\"#9c179e\"],[0.4444444444444444,\"#bd3786\"],[0.5555555555555556,\"#d8576b\"],[0.6666666666666666,\"#ed7953\"],[0.7777777777777778,\"#fb9f3a\"],[0.8888888888888888,\"#fdca26\"],[1.0,\"#f0f921\"]],\"sequentialminus\":[[0.0,\"#0d0887\"],[0.1111111111111111,\"#46039f\"],[0.2222222222222222,\"#7201a8\"],[0.3333333333333333,\"#9c179e\"],[0.4444444444444444,\"#bd3786\"],[0.5555555555555556,\"#d8576b\"],[0.6666666666666666,\"#ed7953\"],[0.7777777777777778,\"#fb9f3a\"],[0.8888888888888888,\"#fdca26\"],[1.0,\"#f0f921\"]],\"diverging\":[[0,\"#8e0152\"],[0.1,\"#c51b7d\"],[0.2,\"#de77ae\"],[0.3,\"#f1b6da\"],[0.4,\"#fde0ef\"],[0.5,\"#f7f7f7\"],[0.6,\"#e6f5d0\"],[0.7,\"#b8e186\"],[0.8,\"#7fbc41\"],[0.9,\"#4d9221\"],[1,\"#276419\"]]},\"xaxis\":{\"gridcolor\":\"white\",\"linecolor\":\"white\",\"ticks\":\"\",\"title\":{\"standoff\":15},\"zerolinecolor\":\"white\",\"automargin\":true,\"zerolinewidth\":2},\"yaxis\":{\"gridcolor\":\"white\",\"linecolor\":\"white\",\"ticks\":\"\",\"title\":{\"standoff\":15},\"zerolinecolor\":\"white\",\"automargin\":true,\"zerolinewidth\":2},\"scene\":{\"xaxis\":{\"backgroundcolor\":\"#E5ECF6\",\"gridcolor\":\"white\",\"linecolor\":\"white\",\"showbackground\":true,\"ticks\":\"\",\"zerolinecolor\":\"white\",\"gridwidth\":2},\"yaxis\":{\"backgroundcolor\":\"#E5ECF6\",\"gridcolor\":\"white\",\"linecolor\":\"white\",\"showbackground\":true,\"ticks\":\"\",\"zerolinecolor\":\"white\",\"gridwidth\":2},\"zaxis\":{\"backgroundcolor\":\"#E5ECF6\",\"gridcolor\":\"white\",\"linecolor\":\"white\",\"showbackground\":true,\"ticks\":\"\",\"zerolinecolor\":\"white\",\"gridwidth\":2}},\"shapedefaults\":{\"line\":{\"color\":\"#2a3f5f\"}},\"annotationdefaults\":{\"arrowcolor\":\"#2a3f5f\",\"arrowhead\":0,\"arrowwidth\":1},\"geo\":{\"bgcolor\":\"white\",\"landcolor\":\"#E5ECF6\",\"subunitcolor\":\"white\",\"showland\":true,\"showlakes\":true,\"lakecolor\":\"white\"},\"title\":{\"x\":0.05},\"mapbox\":{\"style\":\"light\"}}}},                        {\"responsive\": true}                    ).then(function(){\n",
       "                            \n",
       "var gd = document.getElementById('53609931-77a6-42ae-bc5b-7b7df28d2be2');\n",
       "var x = new MutationObserver(function (mutations, observer) {{\n",
       "        var display = window.getComputedStyle(gd).display;\n",
       "        if (!display || display === 'none') {{\n",
       "            console.log([gd, 'removed!']);\n",
       "            Plotly.purge(gd);\n",
       "            observer.disconnect();\n",
       "        }}\n",
       "}});\n",
       "\n",
       "// Listen for the removal of the full notebook cells\n",
       "var notebookContainer = gd.closest('#notebook-container');\n",
       "if (notebookContainer) {{\n",
       "    x.observe(notebookContainer, {childList: true});\n",
       "}}\n",
       "\n",
       "// Listen for the clearing of the current output cell\n",
       "var outputEl = gd.closest('.output');\n",
       "if (outputEl) {{\n",
       "    x.observe(outputEl, {childList: true});\n",
       "}}\n",
       "\n",
       "                        })                };                });            </script>        </div>"
      ]
     },
     "metadata": {},
     "output_type": "display_data"
    }
   ],
   "source": [
    "\n",
    "resolution=[20,12]\n",
    "\n",
    "# 使用plotly绘制图形\n",
    "x_nodes = [pos[i][0] for i in G.nodes()]\n",
    "y_nodes = [pos[i][1] for i in G.nodes()]\n",
    "\n",
    "#center_atom_index\n",
    "\n",
    "#师兄配色\n",
    "color_map = {\n",
    "    'Mn': 'rgba(253,207,158 , 1)',  # 紫色\n",
    "    'Ti': 'rgba(184,168,207, 1)', # 天蓝色\n",
    "    'Co': 'rgba(239,164,132 , 1)',     # 深蓝色\n",
    "    'Ni': 'rgba(182,118,108, 1)', # 灰色\n",
    "    'Li': 'rgba(78,101,155, 1)',     # 绿色\n",
    "    'O': 'rgba(178,101,155, 1)'       # 红色   \n",
    "}\n",
    "\n",
    "size_map = {\n",
    "    'Mn': 40,  \n",
    "    'Ti': 40, \n",
    "    'Co': 40,     \n",
    "    'Ni': 40, \n",
    "    'Li': 40,     \n",
    "    'O': 28     \n",
    "}\n",
    "\n",
    "reso=10\n",
    "\n",
    "#239,164,132\n",
    "size_map2 = {\n",
    "    'Mn': 40*reso,  \n",
    "    'Ti': 40*reso, \n",
    "    'Co': 40*reso,     \n",
    "    'Ni': 40*reso, \n",
    "    'Li': 40*reso,     \n",
    "    'O': 28*reso     \n",
    "}\n",
    "\n",
    "\n",
    "\n",
    "# Initialize edge trace\n",
    "edge_traces = []\n",
    "for edge in G.edges():\n",
    "    if {'Li', 'Ni'} == {G.nodes[edge[0]]['element'], G.nodes[edge[1]]['element']}:\n",
    "        pass\n",
    "    \n",
    "    x0, y0 = pos[edge[0]]\n",
    "    x1, y1 = pos[edge[1]]\n",
    "    edge_x = [x0, x1, None]\n",
    "    edge_y = [y0, y1, None]\n",
    "\n",
    "    # Check if edge connects Li and Ni\n",
    "    #if {'Li', 'Ni'} == {G.nodes[edge[0]]['element'], G.nodes[edge[1]]['element']}:\n",
    "    #    edge_color='red' # Red for Li-Ni edges\n",
    "    #else:\n",
    "    #    edge_color='grey'  # Gray for other edges\n",
    "    edge_color=None\n",
    "    # Create an edge trace\n",
    "    edge_trace = go.Scatter(\n",
    "        x=edge_x, y=edge_y,\n",
    "        line=dict(width=0.5, color=edge_color),\n",
    "        hoverinfo='none',\n",
    "        mode='lines')\n",
    "\n",
    "    edge_traces.append(edge_trace)\n",
    "edge_traces = []    \n",
    "    \n",
    "# 生成节点标签\n",
    "node_colors = []\n",
    "node_sizes = []\n",
    "node_sizes2 = []\n",
    "node_labels = []\n",
    "node_labels_show = []\n",
    "for node in G.nodes():\n",
    "    element = G.nodes[node]['element']\n",
    "    # 直接根据元素符号分配颜色\n",
    "    node_colors.append(color_map[element])\n",
    "    node_sizes.append(size_map[element])\n",
    "    node_sizes2.append(size_map2[element])\n",
    "    # 获取连接的原子及其索引，并按原子距离中心原子的远近排序\n",
    "    connected_atoms = [(G.nodes[neighbor]['element'], neighbor) for neighbor in G.neighbors(node)]\n",
    "    # 按照与中心原子的距离排序\n",
    "    connected_atoms_sorted = sorted(connected_atoms, key=lambda x: distances[x[1]])\n",
    "    # 格式化标签字符串（显示时索引+1）\n",
    "    connected_atoms_labels = ['{}#{}'.format(atom[0], atom[1] + 1) for atom in connected_atoms_sorted]\n",
    "    label = f\"{element}#{node + 1}: coor_num: {len(connected_atoms)} -- {'.'.join(connected_atoms_labels)}\"\n",
    "    label_show = f\"{element}-{node + 1}\"\n",
    "    node_labels.append(label)\n",
    "    node_labels_show.append(label_show)\n",
    "\n",
    "# 生成边标签\n",
    "edge_labels = []\n",
    "for edge in G.edges():\n",
    "    element1, element2 = G.nodes[edge[0]]['element'], G.nodes[edge[1]]['element']\n",
    "    label = f\"{element1}#{edge[0]+1}-{element2}-{edge[1]+1}\"\n",
    "    edge_labels.append(label)\n",
    "    #color1, color2 = color_map[element1], color_map[element2]\n",
    "    # 生成过渡颜色\n",
    "    #edge_colors.append(f'rgba({(color1[0]+color2[0])//2}, {(color1[1]+color2[1])//2}, {(color1[2]+color2[2])//2}, 0.5)')\n",
    "\n",
    "# 更新节点和边的trace以包含标签\n",
    "'''\n",
    "node_trace = go.Scatter(\n",
    "    x=x_nodes, y=y_nodes,\n",
    "    mode='markers+text',\n",
    "    hoverinfo='text',\n",
    "    hovertext=node_labels,\n",
    "    textposition=\"top center\",\n",
    "    marker=dict(\n",
    "        color=node_colors,\n",
    "        size=node_sizes,\n",
    "        line_width=2))\n",
    "'''\n",
    "\n",
    "node_trace = go.Scatter(\n",
    "    x=x_nodes, y=y_nodes,\n",
    "    mode='markers+text',\n",
    "    hoverinfo='text',\n",
    "    hovertext=node_labels,\n",
    "    #text=node_labels_show,\n",
    "    textposition=\"top center\",\n",
    "    marker=dict(\n",
    "        color=node_colors,\n",
    "        size=node_sizes,\n",
    "        line_width=2))\n",
    "\n",
    "node_trace2 = go.Scatter(\n",
    "    x=x_nodes, y=y_nodes,\n",
    "    mode='markers+text',\n",
    "    hoverinfo='text',\n",
    "    hovertext=node_labels,\n",
    "    #text=node_labels_show,\n",
    "    textposition=\"top center\",\n",
    "    marker=dict(\n",
    "        color=node_colors,\n",
    "        size=node_sizes2,\n",
    "        line_width=2))\n",
    "\n",
    "# Update edge trace to use edge colors\n",
    "'''\n",
    "edge_trace = go.Scatter(\n",
    "    x=edge_x, y=edge_y,\n",
    "    line=dict(width=0.5, color=edge_colors),  # Use edge_colors here\n",
    "    hoverinfo='text',\n",
    "    hovertext=edge_labels,\n",
    "    mode='lines')\n",
    "'''\n",
    "# 创建图形对象并添加边和节点\n",
    "fig = go.Figure(data=edge_traces + [node_trace],\n",
    "                layout=go.Layout(\n",
    "                    title=f'<br>Network graph of crystal structure centered with {crystal[center_atom_index].specie.symbol}#{center_atom_index+1}',\n",
    "                    showlegend=False,\n",
    "                    hovermode='closest',\n",
    "                    margin=dict(b=20,l=5,r=5,t=40),\n",
    "                    xaxis=dict(showgrid=False, zeroline=False, showticklabels=False),\n",
    "                    yaxis=dict(showgrid=False, zeroline=False, showticklabels=False)))\n",
    "\n",
    "fig2 = go.Figure(data=edge_traces + [node_trace2],\n",
    "                layout=go.Layout(\n",
    "                    title=f'<br>Network graph of crystal structure centered with {crystal[center_atom_index].specie.symbol}#{center_atom_index+1}',\n",
    "                    showlegend=False,\n",
    "                    hovermode='closest',\n",
    "                    margin=dict(b=20,l=5,r=5,t=40),\n",
    "                    xaxis=dict(showgrid=False, zeroline=False, showticklabels=False),\n",
    "                    yaxis=dict(showgrid=False, zeroline=False, showticklabels=False)))\n",
    "\n",
    "# 显示图形\n",
    "#str_name=xsf_file.split(\".xsf\")[0].split(\"out_relax_\")[1]\n",
    "str_name=xsf_file.split(\".xsf\")[0]\n",
    "fig.write_html(f'{dir_}{str_name}_{crystal[center_atom_index].specie.symbol}#{center_atom_index+1}_neighbor.html')\n",
    "pio.write_image(fig2, f'{dir_}{str_name}_{crystal[center_atom_index].specie.symbol}#{center_atom_index+1}_neighbor.png', width=resolution[0]*100*reso, height=resolution[1]*100*reso)\n",
    "fig.show()\n"
   ]
  },
  {
   "cell_type": "code",
   "execution_count": 72,
   "id": "3b79425c",
   "metadata": {},
   "outputs": [
    {
     "ename": "SyntaxError",
     "evalue": "invalid syntax (Temp/ipykernel_9940/1399984334.py, line 1)",
     "output_type": "error",
     "traceback": [
      "\u001b[1;36m  File \u001b[1;32m\"C:\\Users\\xiety\\AppData\\Local\\Temp/ipykernel_9940/1399984334.py\"\u001b[1;36m, line \u001b[1;32m1\u001b[0m\n\u001b[1;33m    pip show kaleido\u001b[0m\n\u001b[1;37m        ^\u001b[0m\n\u001b[1;31mSyntaxError\u001b[0m\u001b[1;31m:\u001b[0m invalid syntax\n"
     ]
    }
   ],
   "source": [
    "#pip show kaleido"
   ]
  },
  {
   "cell_type": "code",
   "execution_count": 76,
   "id": "e489ca0b",
   "metadata": {},
   "outputs": [
    {
     "name": "stdout",
     "output_type": "stream",
     "text": [
      "Name: plotly\n",
      "Version: 5.21.0\n",
      "Summary: An open-source, interactive data visualization library for Python\n",
      "Home-page: https://plotly.com/python/\n",
      "Author: Chris P\n",
      "Author-email: chris@plot.ly\n",
      "License: MIT\n",
      "Location: e:\\anconda_installation_file\\lib\\site-packages\n",
      "Requires: packaging, tenacity\n",
      "Required-by: pymatgen\n",
      "Note: you may need to restart the kernel to use updated packages.\n"
     ]
    }
   ],
   "source": [
    "#pip show plotly"
   ]
  },
  {
   "cell_type": "code",
   "execution_count": 34,
   "id": "0b1deef4",
   "metadata": {},
   "outputs": [],
   "source": [
    "#TM atoms test"
   ]
  },
  {
   "cell_type": "code",
   "execution_count": 10,
   "id": "78ddb694",
   "metadata": {},
   "outputs": [
    {
     "name": "stdout",
     "output_type": "stream",
     "text": [
      "9\n",
      "OR: 9\n",
      "12\n",
      "OR: 12\n",
      "25\n",
      "OR: 25\n",
      "6\n",
      "OR: 6\n",
      "3\n",
      "OR: 3\n",
      "8\n",
      "OR: 8\n",
      "9\n",
      "12\n",
      "25\n",
      "6\n",
      "3\n",
      "8\n"
     ]
    }
   ],
   "source": [
    "def get_nearest_neighbors_of_type(atom_index, element_type):\n",
    "    \"\"\"\n",
    "    找到给定原子索引的最近邻原子，这些原子的类型为指定类型，数量限制为n个。\n",
    "    已放置的原子将从考虑中剔除。\n",
    "\n",
    "    :param atom_index: 当前原子的索引。\n",
    "    :param element_type: 要找的原子类型（例如 'O' 表示氧原子）。\n",
    "    :param placed_atoms: 已经放置的原子索引的集合。\n",
    "    :param n: 最多返回的邻近原子数量。\n",
    "    :return: 指定类型的最近邻原子的索引列表。\n",
    "    \"\"\"\n",
    "    n=6\n",
    "    neighbors = crystal_nn.get_nn_info(crystal, n=atom_index)\n",
    "    selected_neighbors = []\n",
    "    if element_type!='Non-O-Li':\n",
    "        for neighbor in neighbors:\n",
    "            neighbor_index = neighbor['site_index']\n",
    "            neighbor_element = crystal[neighbor_index].specie\n",
    "\n",
    "            if neighbor_element == element_type and neighbor_index not in [key for key,v in pos.items()]:\n",
    "                selected_neighbors.append(neighbor_index)\n",
    "                if len(selected_neighbors) >= n:\n",
    "                    break\n",
    "    else:\n",
    "        for neighbor in neighbors:\n",
    "            neighbor_index = neighbor['site_index']\n",
    "            neighbor_element = crystal[neighbor_index].specie\n",
    "\n",
    "            if neighbor_element != Element('Li') and neighbor_element != Element('O') and neighbor_index not in [key for key,v in pos.items()]:\n",
    "                selected_neighbors.append(neighbor_index)\n",
    "                if len(selected_neighbors) >= n:\n",
    "                    break    \n",
    "\n",
    "    return selected_neighbors\n",
    "\n",
    "\n",
    "def get_nearest_neighbors_metal(atom_index):\n",
    "    \"\"\"\n",
    "    找到给定原子索引的最近邻原子，这些原子的类型为指定类型，数量限制为n个。\n",
    "    已放置的原子将从考虑中剔除。\n",
    "\n",
    "    :param atom_index: 当前原子的索引。\n",
    "    :param element_type: 要找的原子类型（例如 'O' 表示氧原子）。\n",
    "    :param placed_atoms: 已经放置的原子索引的集合。\n",
    "    :param n: 最多返回的邻近原子数量。\n",
    "    :return: 指定类型的最近邻原子的索引列表。\n",
    "    \"\"\"\n",
    "    n=6\n",
    "    neighbors = crystal_nn.get_nn_info(crystal_metal, n=new_index_map[atom_index])\n",
    "    selected_neighbors = []\n",
    "    for neighbor in neighbors:\n",
    "        neighbor_index = neighbor['site_index']\n",
    "        print(neighbor_index)\n",
    "        neighbor_element = crystal_metal[neighbor_index].specie\n",
    "\n",
    "        if neighbor_element != Element('Li') and neighbor_element != Element('O') and neighbor_index not in [key for key,v in pos.items()]:\n",
    "            print(\"OR:\",original_index_map[neighbor_index])\n",
    "            selected_neighbors.append(original_index_map[neighbor_index])\n",
    "            if len(selected_neighbors) >= n:\n",
    "                break    \n",
    "\n",
    "    return selected_neighbors\n",
    "\n",
    "def get_nearest_neighbors_li(atom_index):\n",
    "    \"\"\"\n",
    "    找到给定原子索引的最近邻原子，这些原子的类型为指定类型，数量限制为n个。\n",
    "    已放置的原子将从考虑中剔除。\n",
    "\n",
    "    :param atom_index: 当前原子的索引。\n",
    "    :param element_type: 要找的原子类型（例如 'O' 表示氧原子）。\n",
    "    :param placed_atoms: 已经放置的原子索引的集合。\n",
    "    :param n: 最多返回的邻近原子数量。\n",
    "    :return: 指定类型的最近邻原子的索引列表。\n",
    "    \"\"\"\n",
    "    n=6\n",
    "    neighbors = crystal_nn.get_nn_info(crystal_metal, n=new_index_map[atom_index])\n",
    "    selected_neighbors = []\n",
    "    for neighbor in neighbors:\n",
    "        neighbor_index = neighbor['site_index']\n",
    "        print(neighbor_index)\n",
    "        neighbor_element = crystal_metal[neighbor_index].specie\n",
    "\n",
    "        if neighbor_element == Element('Li') and neighbor_index not in [key for key,v in pos.items()]:\n",
    "            print(\"OR:\",original_index_map[neighbor_index])\n",
    "            selected_neighbors.append(original_index_map[neighbor_index])\n",
    "            if len(selected_neighbors) >= n:\n",
    "                break    \n",
    "\n",
    "    return selected_neighbors\n",
    "\n",
    "def place_atoms_in_layer(base_distance, atom_indices):\n",
    "    \"\"\"\n",
    "    根据给定的基础距离和原子索引列表，计算并放置这些原子的位置。\n",
    "    同时更新链接列表。\n",
    "\n",
    "    :param base_distance: 原子到中心的基础距离。\n",
    "    :param atom_indices: 要放置的原子索引列表。\n",
    "    :param links: 存储原子间链接的列表。\n",
    "    :param pos: 存储原子位置的字典。\n",
    "    \"\"\"\n",
    "    num_atoms = len(atom_indices)\n",
    "    for i, atom_index in enumerate(atom_indices):\n",
    "        angle = 2 * math.pi * i / num_atoms\n",
    "        x = base_distance * math.cos(angle)\n",
    "        y = base_distance * math.sin(angle)\n",
    "        pos[atom_index] = (x, y)\n",
    "\n",
    "# 中心原子和第一层\n",
    "\n",
    "center_atom_vesta=38\n",
    "\n",
    "center_atom_index = center_atom_vesta-1\n",
    "pos = {center_atom_index:(0,0)}\n",
    "#print(\"*\"*20,\"center atom\",\"*\"*20,)\n",
    "#print(pos)\n",
    "\n",
    "distances = [crystal.get_distance(center_atom_index, i) for i, _ in enumerate(crystal.sites)]\n",
    "first_layer_oxygen_atoms = get_nearest_neighbors_of_type(center_atom_index, Element('O'))\n",
    "place_atoms_in_layer(1, first_layer_oxygen_atoms)\n",
    "\n",
    "\n",
    "# 1.2层和1.4层\n",
    "layer_1_2_li_atoms=[]\n",
    "layer_1_4_other_atoms=[]\n",
    "#for oxygen_atom in first_layer_oxygen_atoms:\n",
    "    #layer_1_2_li_atoms.extend(get_nearest_neighbors_of_type(oxygen_atom, Element('Li')))\n",
    "    #layer_1_4_other_atoms.extend(get_nearest_neighbors_of_type(oxygen_atom, 'Non-O-Li'))\n",
    "layer_1_4_other_atoms.extend(get_nearest_neighbors_metal(center_atom_index)) #只考虑最近邻的六个TM原子\n",
    "layer_1_2_li_atoms.extend(get_nearest_neighbors_li(center_atom_index))\n",
    "#layer_1_2_li_atoms=list(set(layer_1_2_li_atoms))\n",
    "#layer_1_4_other_atoms=list(set(layer_1_4_other_atoms))\n",
    "#print(\"AA\",layer_1_4_other_atoms)\n",
    "place_atoms_in_layer(1.2, layer_1_2_li_atoms)  # 第1.2层距离为1.2\n",
    "place_atoms_in_layer(1.4, layer_1_4_other_atoms)  # 第1.4层距离为1.4\n",
    "\n",
    "second_layer_oxygen_atoms = set()\n",
    "for atom_index in [key for key,v in pos.items()]:\n",
    "    if str(crystal[atom_index].specie) != Element('O'):  # 选择非氧原子\n",
    "        nearest_oxygen_atoms = get_nearest_neighbors_of_type(atom_index, Element('O'))\n",
    "        second_layer_oxygen_atoms.update(nearest_oxygen_atoms)\n",
    "\n",
    "#print(\"*\"*20,\"1st layer atom\",\"*\"*20,)\n",
    "#print(pos)\n",
    "        \n",
    "# 更新第二层原子的位置\n",
    "second_layer_oxygen_atoms = second_layer_oxygen_atoms - set([key for key,v in pos.items()])\n",
    "place_atoms_in_layer(2, list(second_layer_oxygen_atoms))  # 假设第二层距离为2\n",
    "\n",
    "# 计算第2.2层和第2.4层原子位置\n",
    "layer_2_2_li_atoms=[]\n",
    "layer_2_4_other_atoms=[]\n",
    "for oxygen_atom in second_layer_oxygen_atoms:\n",
    "    layer_2_2_li_atoms.extend(get_nearest_neighbors_of_type(oxygen_atom, Element('Li')))\n",
    "    layer_2_4_other_atoms.extend(get_nearest_neighbors_of_type(oxygen_atom, 'Non-O-Li'))\n",
    "layer_2_2_li_atoms=list(set(layer_2_2_li_atoms))\n",
    "layer_2_4_other_atoms=list(set(layer_2_4_other_atoms))\n",
    "place_atoms_in_layer(2.2, layer_2_2_li_atoms)  # 第2.2层距离为2.2\n",
    "place_atoms_in_layer(2.4, layer_2_4_other_atoms)  # 第2.4层距离为2.4\n",
    "\n",
    "#print(\"*\"*20,\"2nd layer atom\",\"*\"*20,)\n",
    "#print(pos)\n",
    "    \n",
    "# 放置剩余原子\n",
    "# 在这里，pos字典包含了所有原子的位置，links列表包含了原子之间的链接\n",
    "\n",
    "\n",
    "remaining_atoms = set(range(len(crystal.sites))) - set([key for key,v in pos.items()])\n",
    "\n",
    "place_atoms_in_layer(3, list(remaining_atoms))  # 假设最外层距离为3\n",
    "\n",
    "\n",
    "\n",
    "# 绘制链接\n",
    "# ...\n",
    "\n",
    "# 注意：实际代码实现需要具体到您的数据结构和可用函数\n",
    "#print(\"*\"*20,\"final layer atom\",\"*\"*20,)\n",
    "#for i,v in pos.items():\n",
    "#    print(i,v)\n",
    "#print(len(pos),len(pos[0]))"
   ]
  },
  {
   "cell_type": "code",
   "execution_count": 1,
   "id": "03eeceba",
   "metadata": {},
   "outputs": [
    {
     "ename": "NameError",
     "evalue": "name 'G' is not defined",
     "output_type": "error",
     "traceback": [
      "\u001b[1;31m---------------------------------------------------------------------------\u001b[0m",
      "\u001b[1;31mNameError\u001b[0m                                 Traceback (most recent call last)",
      "\u001b[1;32m~\\AppData\\Local\\Temp/ipykernel_1280/1254476770.py\u001b[0m in \u001b[0;36m<module>\u001b[1;34m\u001b[0m\n\u001b[0;32m      1\u001b[0m \u001b[1;31m# 使用plotly绘制图形\u001b[0m\u001b[1;33m\u001b[0m\u001b[1;33m\u001b[0m\u001b[0m\n\u001b[1;32m----> 2\u001b[1;33m \u001b[0mx_nodes\u001b[0m \u001b[1;33m=\u001b[0m \u001b[1;33m[\u001b[0m\u001b[0mpos\u001b[0m\u001b[1;33m[\u001b[0m\u001b[0mi\u001b[0m\u001b[1;33m]\u001b[0m\u001b[1;33m[\u001b[0m\u001b[1;36m0\u001b[0m\u001b[1;33m]\u001b[0m \u001b[1;32mfor\u001b[0m \u001b[0mi\u001b[0m \u001b[1;32min\u001b[0m \u001b[0mG\u001b[0m\u001b[1;33m.\u001b[0m\u001b[0mnodes\u001b[0m\u001b[1;33m(\u001b[0m\u001b[1;33m)\u001b[0m\u001b[1;33m]\u001b[0m\u001b[1;33m\u001b[0m\u001b[1;33m\u001b[0m\u001b[0m\n\u001b[0m\u001b[0;32m      3\u001b[0m \u001b[0my_nodes\u001b[0m \u001b[1;33m=\u001b[0m \u001b[1;33m[\u001b[0m\u001b[0mpos\u001b[0m\u001b[1;33m[\u001b[0m\u001b[0mi\u001b[0m\u001b[1;33m]\u001b[0m\u001b[1;33m[\u001b[0m\u001b[1;36m1\u001b[0m\u001b[1;33m]\u001b[0m \u001b[1;32mfor\u001b[0m \u001b[0mi\u001b[0m \u001b[1;32min\u001b[0m \u001b[0mG\u001b[0m\u001b[1;33m.\u001b[0m\u001b[0mnodes\u001b[0m\u001b[1;33m(\u001b[0m\u001b[1;33m)\u001b[0m\u001b[1;33m]\u001b[0m\u001b[1;33m\u001b[0m\u001b[1;33m\u001b[0m\u001b[0m\n\u001b[0;32m      4\u001b[0m \u001b[1;33m\u001b[0m\u001b[0m\n\u001b[0;32m      5\u001b[0m \u001b[1;33m\u001b[0m\u001b[0m\n",
      "\u001b[1;31mNameError\u001b[0m: name 'G' is not defined"
     ]
    }
   ],
   "source": [
    "# 使用plotly绘制图形\n",
    "x_nodes = [pos[i][0] for i in G.nodes()]\n",
    "y_nodes = [pos[i][1] for i in G.nodes()]\n",
    "\n",
    "\n",
    "# Initialize edge trace\n",
    "edge_traces = []\n",
    "for edge in G.edges():\n",
    "    x0, y0 = pos[edge[0]]\n",
    "    x1, y1 = pos[edge[1]]\n",
    "    edge_x = [x0, x1, None]\n",
    "    edge_y = [y0, y1, None]\n",
    "\n",
    "    # Check if edge connects Li and Ni\n",
    "    if {'Li', 'Ni'} == {G.nodes[edge[0]]['element'], G.nodes[edge[1]]['element']}:\n",
    "        edge_color='red'  # Red for Li-Ni edges\n",
    "    else:\n",
    "        edge_color='grey'  # Gray for other edges\n",
    "    # Create an edge trace\n",
    "    edge_trace = go.Scatter(\n",
    "        x=edge_x, y=edge_y,\n",
    "        line=dict(width=0.5, color=edge_color),\n",
    "        hoverinfo='none',\n",
    "        mode='lines')\n",
    "\n",
    "    edge_traces.append(edge_trace)\n",
    "    \n",
    "    \n",
    "# 生成节点标签\n",
    "node_colors = []\n",
    "node_labels = []\n",
    "for node in G.nodes():\n",
    "    element = G.nodes[node]['element']\n",
    "    # 直接根据元素符号分配颜色\n",
    "    node_colors.append(color_map[element])\n",
    "    # 获取连接的原子及其索引，并按原子距离中心原子的远近排序\n",
    "    connected_atoms = [(G.nodes[neighbor]['element'], neighbor) for neighbor in G.neighbors(node)]\n",
    "    # 按照与中心原子的距离排序\n",
    "    connected_atoms_sorted = sorted(connected_atoms, key=lambda x: distances[x[1]])\n",
    "    # 格式化标签字符串（显示时索引+1）\n",
    "    connected_atoms_labels = ['{}#{}'.format(atom[0], atom[1] + 1) for atom in connected_atoms_sorted]\n",
    "    label = f\"{element}#{node + 1}: coor_num: {len(connected_atoms)} -- {'.'.join(connected_atoms_labels)}\"\n",
    "    node_labels.append(label)\n",
    "\n",
    "# 生成边标签\n",
    "edge_labels = []\n",
    "for edge in G.edges():\n",
    "    element1, element2 = G.nodes[edge[0]]['element'], G.nodes[edge[1]]['element']\n",
    "    label = f\"{element1}#{edge[0]+1}-{element2}-{edge[1]+1}\"\n",
    "    edge_labels.append(label)\n",
    "    #color1, color2 = color_map[element1], color_map[element2]\n",
    "    # 生成过渡颜色\n",
    "    #edge_colors.append(f'rgba({(color1[0]+color2[0])//2}, {(color1[1]+color2[1])//2}, {(color1[2]+color2[2])//2}, 0.5)')\n",
    "\n",
    "# 更新节点和边的trace以包含标签\n",
    "node_trace = go.Scatter(\n",
    "    x=x_nodes, y=y_nodes,\n",
    "    mode='markers+text',\n",
    "    hoverinfo='text',\n",
    "    hovertext=node_labels,\n",
    "    textposition=\"top center\",\n",
    "    marker=dict(\n",
    "        color=node_colors,\n",
    "        size=10,\n",
    "        line_width=2))\n",
    "\n",
    "# Update edge trace to use edge colors\n",
    "'''\n",
    "edge_trace = go.Scatter(\n",
    "    x=edge_x, y=edge_y,\n",
    "    line=dict(width=0.5, color=edge_colors),  # Use edge_colors here\n",
    "    hoverinfo='text',\n",
    "    hovertext=edge_labels,\n",
    "    mode='lines')\n",
    "'''\n",
    "# 创建图形对象并添加边和节点\n",
    "fig = go.Figure(data=edge_traces + [node_trace],\n",
    "                layout=go.Layout(\n",
    "                    title=f'<br>Network graph of crystal structure centered with {crystal[center_atom_index].specie.symbol}#{center_atom_index+1}',\n",
    "                    showlegend=False,\n",
    "                    hovermode='closest',\n",
    "                    margin=dict(b=20,l=5,r=5,t=40),\n",
    "                    xaxis=dict(showgrid=False, zeroline=False, showticklabels=False),\n",
    "                    yaxis=dict(showgrid=False, zeroline=False, showticklabels=False)))\n",
    "\n",
    "# 显示图形\n",
    "str_name=xsf_file.split(\".xsf\")[0].split(\"out_relax_\")[1]\n",
    "fig.write_html(f'{dir_}{str_name}_{crystal[center_atom_index].specie.symbol}#{center_atom_index+1}_neighbor.html')\n",
    "fig.show()\n"
   ]
  },
  {
   "cell_type": "markdown",
   "id": "1e73988a",
   "metadata": {},
   "source": [
    "定义R-GCN模型\n",
    "R-GCN（关系图卷积网络）是一种用于处理图数据的神经网络，特别适合处理有多种类型边的图。在您的案例中，有两种类型的边：'original'边和'li_ni_edge'边。"
   ]
  },
  {
   "cell_type": "code",
   "execution_count": null,
   "id": "eb393d03",
   "metadata": {},
   "outputs": [],
   "source": [
    "import torch\n",
    "import torch.nn as nn\n",
    "from torch_geometric.nn import RGCNConv\n",
    "\n",
    "class RGCN(nn.Module):\n",
    "    def __init__(self, in_channels, out_channels, num_relations):\n",
    "        super(RGCN, self).__init__()\n",
    "        # 定义R-GCN层\n",
    "        self.conv1 = RGCNConv(in_channels, 16, num_relations)\n",
    "        self.conv2 = RGCNConv(16, out_channels, num_relations)\n",
    "\n",
    "    def forward(self, x, edge_index, edge_type):\n",
    "        # 通过R-GCN层传递节点特征\n",
    "        x = self.conv1(x, edge_index, edge_type)\n",
    "        x = torch.relu(x)\n",
    "        x = self.conv2(x, edge_index, edge_type)\n",
    "        return x\n",
    "\n",
    "# 实例化模型\n",
    "model = RGCN(in_channels=节点特征维度, out_channels=输出特征维度, num_relations=2) # 这里有两种类型的边\n"
   ]
  },
  {
   "cell_type": "markdown",
   "id": "b1a4f695",
   "metadata": {},
   "source": [
    "准备数据\n",
    "您需要将图数据转换为适合PyTorch Geometric的格式。这包括节点特征矩阵、边索引列表和边类型。"
   ]
  },
  {
   "cell_type": "code",
   "execution_count": null,
   "id": "ae647567",
   "metadata": {},
   "outputs": [],
   "source": [
    "import torch\n",
    "from torch_geometric.data import Data\n",
    "\n",
    "# 假设G是您的图\n",
    "# 将图数据转换为PyTorch Geometric格式\n",
    "\n",
    "# 节点特征矩阵\n",
    "x = torch.tensor(节点特征矩阵, dtype=torch.float)\n",
    "\n",
    "# 边索引\n",
    "edge_index = torch.tensor([list(zip(*G.edges()))], dtype=torch.long)\n",
    "\n",
    "# 边类型（'original'为0, 'li_ni_edge'为1）\n",
    "edge_type = torch.tensor([0 if G[u][v]['edge_type'] == 'original' else 1 for u, v in G.edges()], dtype=torch.long)\n",
    "\n",
    "# 创建PyTorch Geometric数据对象\n",
    "data = Data(x=x, edge_index=edge_index, edge_type=edge_type)\n"
   ]
  },
  {
   "cell_type": "markdown",
   "id": "7dcc9ab2",
   "metadata": {},
   "source": [
    "训练模型\n",
    "最后，您需要定义一个训练循环来训练R-GCN模型。"
   ]
  },
  {
   "cell_type": "code",
   "execution_count": null,
   "id": "49b941e7",
   "metadata": {},
   "outputs": [],
   "source": [
    "optimizer = torch.optim.Adam(model.parameters(), lr=0.01)\n",
    "criterion = nn.MSELoss()  # 假设您是在做回归任务\n",
    "\n",
    "for epoch in range(总的训练轮数):\n",
    "    model.train()\n",
    "    optimizer.zero_grad()\n",
    "    \n",
    "    out = model(data.x, data.edge_index, data.edge_type)\n",
    "    \n",
    "    # 计算损失\n",
    "    loss = criterion(out, 目标值)\n",
    "    \n",
    "    loss.backward()\n",
    "    optimizer.step()\n",
    "\n",
    "    print(f'Epoch {epoch}, Loss: {loss.item()}')\n"
   ]
  },
  {
   "cell_type": "code",
   "execution_count": null,
   "id": "f2c28ef6",
   "metadata": {},
   "outputs": [],
   "source": []
  },
  {
   "cell_type": "code",
   "execution_count": null,
   "id": "9502530e",
   "metadata": {},
   "outputs": [],
   "source": []
  },
  {
   "cell_type": "code",
   "execution_count": null,
   "id": "77b03b26",
   "metadata": {},
   "outputs": [],
   "source": []
  },
  {
   "cell_type": "code",
   "execution_count": null,
   "id": "19ae3356",
   "metadata": {},
   "outputs": [],
   "source": []
  }
 ],
 "metadata": {
  "kernelspec": {
   "display_name": "Python 3 (ipykernel)",
   "language": "python",
   "name": "python3"
  },
  "language_info": {
   "codemirror_mode": {
    "name": "ipython",
    "version": 3
   },
   "file_extension": ".py",
   "mimetype": "text/x-python",
   "name": "python",
   "nbconvert_exporter": "python",
   "pygments_lexer": "ipython3",
   "version": "3.9.7"
  }
 },
 "nbformat": 4,
 "nbformat_minor": 5
}
